{
 "cells": [
  {
   "cell_type": "markdown",
   "id": "44252304",
   "metadata": {},
   "source": [
    "The dataset consists of information about the purchasing behavior of 2,000 individuals from a given area when entering a physical ‘FMCG’ store. All data has been collected through the loyalty cards they use at checkout. The data has been preprocessed and there are no missing values. \n",
    "In addition, the volume of the dataset has been restricted and anonymised to protect the privacy of the customers."
   ]
  },
  {
   "cell_type": "code",
   "execution_count": 1,
   "id": "ec634e32",
   "metadata": {},
   "outputs": [],
   "source": [
    "import pandas as pd\n",
    "import numpy as np\n",
    "import matplotlib.pyplot as plt\n",
    "import seaborn as sns\n",
    "import warnings\n",
    "warnings.filterwarnings('ignore')"
   ]
  },
  {
   "cell_type": "markdown",
   "id": "3fcc0658",
   "metadata": {},
   "source": [
    "### Description of the dataset"
   ]
  },
  {
   "cell_type": "code",
   "execution_count": 193,
   "id": "7bcf0d43",
   "metadata": {},
   "outputs": [
    {
     "data": {
      "text/html": [
       "<div>\n",
       "<style scoped>\n",
       "    .dataframe tbody tr th:only-of-type {\n",
       "        vertical-align: middle;\n",
       "    }\n",
       "\n",
       "    .dataframe tbody tr th {\n",
       "        vertical-align: top;\n",
       "    }\n",
       "\n",
       "    .dataframe thead th {\n",
       "        text-align: right;\n",
       "    }\n",
       "</style>\n",
       "<table border=\"1\" class=\"dataframe\">\n",
       "  <thead>\n",
       "    <tr style=\"text-align: right;\">\n",
       "      <th></th>\n",
       "      <th>ID</th>\n",
       "      <th>Sex</th>\n",
       "      <th>Marital status</th>\n",
       "      <th>Age</th>\n",
       "      <th>Education</th>\n",
       "      <th>Income</th>\n",
       "      <th>Occupation</th>\n",
       "      <th>Settlement size</th>\n",
       "    </tr>\n",
       "  </thead>\n",
       "  <tbody>\n",
       "    <tr>\n",
       "      <th>0</th>\n",
       "      <td>100000001</td>\n",
       "      <td>0</td>\n",
       "      <td>0</td>\n",
       "      <td>67</td>\n",
       "      <td>2</td>\n",
       "      <td>124670</td>\n",
       "      <td>1</td>\n",
       "      <td>2</td>\n",
       "    </tr>\n",
       "    <tr>\n",
       "      <th>1</th>\n",
       "      <td>100000002</td>\n",
       "      <td>1</td>\n",
       "      <td>1</td>\n",
       "      <td>22</td>\n",
       "      <td>1</td>\n",
       "      <td>150773</td>\n",
       "      <td>1</td>\n",
       "      <td>2</td>\n",
       "    </tr>\n",
       "    <tr>\n",
       "      <th>2</th>\n",
       "      <td>100000003</td>\n",
       "      <td>0</td>\n",
       "      <td>0</td>\n",
       "      <td>49</td>\n",
       "      <td>1</td>\n",
       "      <td>89210</td>\n",
       "      <td>0</td>\n",
       "      <td>0</td>\n",
       "    </tr>\n",
       "    <tr>\n",
       "      <th>3</th>\n",
       "      <td>100000004</td>\n",
       "      <td>0</td>\n",
       "      <td>0</td>\n",
       "      <td>45</td>\n",
       "      <td>1</td>\n",
       "      <td>171565</td>\n",
       "      <td>1</td>\n",
       "      <td>1</td>\n",
       "    </tr>\n",
       "    <tr>\n",
       "      <th>4</th>\n",
       "      <td>100000005</td>\n",
       "      <td>0</td>\n",
       "      <td>0</td>\n",
       "      <td>53</td>\n",
       "      <td>1</td>\n",
       "      <td>149031</td>\n",
       "      <td>1</td>\n",
       "      <td>1</td>\n",
       "    </tr>\n",
       "    <tr>\n",
       "      <th>...</th>\n",
       "      <td>...</td>\n",
       "      <td>...</td>\n",
       "      <td>...</td>\n",
       "      <td>...</td>\n",
       "      <td>...</td>\n",
       "      <td>...</td>\n",
       "      <td>...</td>\n",
       "      <td>...</td>\n",
       "    </tr>\n",
       "    <tr>\n",
       "      <th>1995</th>\n",
       "      <td>100001996</td>\n",
       "      <td>1</td>\n",
       "      <td>0</td>\n",
       "      <td>47</td>\n",
       "      <td>1</td>\n",
       "      <td>123525</td>\n",
       "      <td>0</td>\n",
       "      <td>0</td>\n",
       "    </tr>\n",
       "    <tr>\n",
       "      <th>1996</th>\n",
       "      <td>100001997</td>\n",
       "      <td>1</td>\n",
       "      <td>1</td>\n",
       "      <td>27</td>\n",
       "      <td>1</td>\n",
       "      <td>117744</td>\n",
       "      <td>1</td>\n",
       "      <td>0</td>\n",
       "    </tr>\n",
       "    <tr>\n",
       "      <th>1997</th>\n",
       "      <td>100001998</td>\n",
       "      <td>0</td>\n",
       "      <td>0</td>\n",
       "      <td>31</td>\n",
       "      <td>0</td>\n",
       "      <td>86400</td>\n",
       "      <td>0</td>\n",
       "      <td>0</td>\n",
       "    </tr>\n",
       "    <tr>\n",
       "      <th>1998</th>\n",
       "      <td>100001999</td>\n",
       "      <td>1</td>\n",
       "      <td>1</td>\n",
       "      <td>24</td>\n",
       "      <td>1</td>\n",
       "      <td>97968</td>\n",
       "      <td>0</td>\n",
       "      <td>0</td>\n",
       "    </tr>\n",
       "    <tr>\n",
       "      <th>1999</th>\n",
       "      <td>100002000</td>\n",
       "      <td>0</td>\n",
       "      <td>0</td>\n",
       "      <td>25</td>\n",
       "      <td>0</td>\n",
       "      <td>68416</td>\n",
       "      <td>0</td>\n",
       "      <td>0</td>\n",
       "    </tr>\n",
       "  </tbody>\n",
       "</table>\n",
       "<p>2000 rows × 8 columns</p>\n",
       "</div>"
      ],
      "text/plain": [
       "             ID  Sex  Marital status  Age  Education  Income  Occupation  \\\n",
       "0     100000001    0               0   67          2  124670           1   \n",
       "1     100000002    1               1   22          1  150773           1   \n",
       "2     100000003    0               0   49          1   89210           0   \n",
       "3     100000004    0               0   45          1  171565           1   \n",
       "4     100000005    0               0   53          1  149031           1   \n",
       "...         ...  ...             ...  ...        ...     ...         ...   \n",
       "1995  100001996    1               0   47          1  123525           0   \n",
       "1996  100001997    1               1   27          1  117744           1   \n",
       "1997  100001998    0               0   31          0   86400           0   \n",
       "1998  100001999    1               1   24          1   97968           0   \n",
       "1999  100002000    0               0   25          0   68416           0   \n",
       "\n",
       "      Settlement size  \n",
       "0                   2  \n",
       "1                   2  \n",
       "2                   0  \n",
       "3                   1  \n",
       "4                   1  \n",
       "...               ...  \n",
       "1995                0  \n",
       "1996                0  \n",
       "1997                0  \n",
       "1998                0  \n",
       "1999                0  \n",
       "\n",
       "[2000 rows x 8 columns]"
      ]
     },
     "execution_count": 193,
     "metadata": {},
     "output_type": "execute_result"
    }
   ],
   "source": [
    "df = pd.read_csv('Customer_segmentation_data (1).csv')\n",
    "df"
   ]
  },
  {
   "cell_type": "markdown",
   "id": "788026f9",
   "metadata": {},
   "source": [
    "Segmentation data - Legend\n",
    "\n",
    "The dataset consists of information about the purchasing behavior of 2,000 individuals from a given area when entering a physical Variable Data type Range Description\n",
    "ID numerical Integer Shows a unique identificator of a customer.\n",
    "\n",
    "Sex categorical{0,1} Biological sex (gender) of a customer. In this dataset there are only 2 different options.\n",
    "0 male\n",
    "1 female\n",
    "\n",
    "Marital statcuastegorical{0,1} Marital status of a customer.\n",
    "0 single\n",
    "1 non-single (divorced / separated / married / widowed)\n",
    "\n",
    "Age numerical Integer The age of the customer in years, calculated as current year minus the year of birth of the customer \n",
    "18 Min value (the lowest age observed in the dataset)\n",
    "76 Max value (the highest age observed in the dataset)\n",
    "\n",
    "Education categorical{0,1,2,3} Level of education of the customer\n",
    "0 other / unknown\n",
    "1 high school\n",
    "2 university\n",
    "3 graduate school\n",
    "\n",
    "\n",
    "Income numerical Real Self-reported annual income in US dollars of the customer.\n",
    "35832 Min value (the lowest income observed in the dataset)\n",
    "309364 Max value (the highest income observed in the dataset)\n",
    "\n",
    "Occupationcategorical{0,1,2} Category of occupation of the customer.\n",
    "0 unemployed / unskilled\n",
    "1 skilled employee / official\n",
    "2 management / self-employed / highly qualified employee / officer\n",
    "\n",
    "Settlement csaiztegorical{0,1,2} The size of the city that the customer lives in.\n",
    "0 small city\n",
    "1 mid-sized city\n",
    "2 big city\n",
    "\n",
    "area when entering a physical ‘FMCG’ store. All data has been collected through the loyalty cards they use at checkout. The data has been preprocessed 2 different options.\n",
    "the year of birth of the customer at the time of creation of the dataset\n",
    "checkout. The data has been preprocessed and there are no missing values. In addition, the volume of the dataset has been restricted and anonymised\n",
    "been restricted and anonymised to protect the privacy of the customers."
   ]
  },
  {
   "cell_type": "code",
   "execution_count": 194,
   "id": "1426db13",
   "metadata": {},
   "outputs": [
    {
     "data": {
      "text/plain": [
       "(2000, 8)"
      ]
     },
     "execution_count": 194,
     "metadata": {},
     "output_type": "execute_result"
    }
   ],
   "source": [
    "df.shape"
   ]
  },
  {
   "cell_type": "code",
   "execution_count": 195,
   "id": "5a35254c",
   "metadata": {},
   "outputs": [
    {
     "data": {
      "text/plain": [
       "ID                 0\n",
       "Sex                0\n",
       "Marital status     0\n",
       "Age                0\n",
       "Education          0\n",
       "Income             0\n",
       "Occupation         0\n",
       "Settlement size    0\n",
       "dtype: int64"
      ]
     },
     "execution_count": 195,
     "metadata": {},
     "output_type": "execute_result"
    }
   ],
   "source": [
    "# data has no null values\n",
    "df.isnull().sum()"
   ]
  },
  {
   "cell_type": "markdown",
   "id": "64e28a4b",
   "metadata": {},
   "source": [
    "# EXPLORATORY DATA ANALYSIS:"
   ]
  },
  {
   "cell_type": "code",
   "execution_count": 196,
   "id": "e23c7d11",
   "metadata": {},
   "outputs": [
    {
     "data": {
      "text/html": [
       "<div>\n",
       "<style scoped>\n",
       "    .dataframe tbody tr th:only-of-type {\n",
       "        vertical-align: middle;\n",
       "    }\n",
       "\n",
       "    .dataframe tbody tr th {\n",
       "        vertical-align: top;\n",
       "    }\n",
       "\n",
       "    .dataframe thead th {\n",
       "        text-align: right;\n",
       "    }\n",
       "</style>\n",
       "<table border=\"1\" class=\"dataframe\">\n",
       "  <thead>\n",
       "    <tr style=\"text-align: right;\">\n",
       "      <th></th>\n",
       "      <th>ID</th>\n",
       "      <th>Sex</th>\n",
       "      <th>Marital status</th>\n",
       "      <th>Age</th>\n",
       "      <th>Education</th>\n",
       "      <th>Income</th>\n",
       "      <th>Occupation</th>\n",
       "      <th>Settlement size</th>\n",
       "    </tr>\n",
       "  </thead>\n",
       "  <tbody>\n",
       "    <tr>\n",
       "      <th>0</th>\n",
       "      <td>100000001</td>\n",
       "      <td>0</td>\n",
       "      <td>0</td>\n",
       "      <td>67</td>\n",
       "      <td>2</td>\n",
       "      <td>124670</td>\n",
       "      <td>1</td>\n",
       "      <td>2</td>\n",
       "    </tr>\n",
       "    <tr>\n",
       "      <th>1</th>\n",
       "      <td>100000002</td>\n",
       "      <td>1</td>\n",
       "      <td>1</td>\n",
       "      <td>22</td>\n",
       "      <td>1</td>\n",
       "      <td>150773</td>\n",
       "      <td>1</td>\n",
       "      <td>2</td>\n",
       "    </tr>\n",
       "    <tr>\n",
       "      <th>2</th>\n",
       "      <td>100000003</td>\n",
       "      <td>0</td>\n",
       "      <td>0</td>\n",
       "      <td>49</td>\n",
       "      <td>1</td>\n",
       "      <td>89210</td>\n",
       "      <td>0</td>\n",
       "      <td>0</td>\n",
       "    </tr>\n",
       "    <tr>\n",
       "      <th>3</th>\n",
       "      <td>100000004</td>\n",
       "      <td>0</td>\n",
       "      <td>0</td>\n",
       "      <td>45</td>\n",
       "      <td>1</td>\n",
       "      <td>171565</td>\n",
       "      <td>1</td>\n",
       "      <td>1</td>\n",
       "    </tr>\n",
       "    <tr>\n",
       "      <th>4</th>\n",
       "      <td>100000005</td>\n",
       "      <td>0</td>\n",
       "      <td>0</td>\n",
       "      <td>53</td>\n",
       "      <td>1</td>\n",
       "      <td>149031</td>\n",
       "      <td>1</td>\n",
       "      <td>1</td>\n",
       "    </tr>\n",
       "    <tr>\n",
       "      <th>5</th>\n",
       "      <td>100000006</td>\n",
       "      <td>0</td>\n",
       "      <td>0</td>\n",
       "      <td>35</td>\n",
       "      <td>1</td>\n",
       "      <td>144848</td>\n",
       "      <td>0</td>\n",
       "      <td>0</td>\n",
       "    </tr>\n",
       "    <tr>\n",
       "      <th>6</th>\n",
       "      <td>100000007</td>\n",
       "      <td>0</td>\n",
       "      <td>0</td>\n",
       "      <td>53</td>\n",
       "      <td>1</td>\n",
       "      <td>156495</td>\n",
       "      <td>1</td>\n",
       "      <td>1</td>\n",
       "    </tr>\n",
       "    <tr>\n",
       "      <th>7</th>\n",
       "      <td>100000008</td>\n",
       "      <td>0</td>\n",
       "      <td>0</td>\n",
       "      <td>35</td>\n",
       "      <td>1</td>\n",
       "      <td>193621</td>\n",
       "      <td>2</td>\n",
       "      <td>1</td>\n",
       "    </tr>\n",
       "    <tr>\n",
       "      <th>8</th>\n",
       "      <td>100000009</td>\n",
       "      <td>0</td>\n",
       "      <td>1</td>\n",
       "      <td>61</td>\n",
       "      <td>2</td>\n",
       "      <td>151591</td>\n",
       "      <td>0</td>\n",
       "      <td>0</td>\n",
       "    </tr>\n",
       "    <tr>\n",
       "      <th>9</th>\n",
       "      <td>100000010</td>\n",
       "      <td>0</td>\n",
       "      <td>1</td>\n",
       "      <td>28</td>\n",
       "      <td>1</td>\n",
       "      <td>174646</td>\n",
       "      <td>2</td>\n",
       "      <td>0</td>\n",
       "    </tr>\n",
       "    <tr>\n",
       "      <th>10</th>\n",
       "      <td>100000011</td>\n",
       "      <td>1</td>\n",
       "      <td>1</td>\n",
       "      <td>25</td>\n",
       "      <td>1</td>\n",
       "      <td>108469</td>\n",
       "      <td>1</td>\n",
       "      <td>0</td>\n",
       "    </tr>\n",
       "    <tr>\n",
       "      <th>11</th>\n",
       "      <td>100000012</td>\n",
       "      <td>1</td>\n",
       "      <td>1</td>\n",
       "      <td>24</td>\n",
       "      <td>1</td>\n",
       "      <td>127596</td>\n",
       "      <td>1</td>\n",
       "      <td>0</td>\n",
       "    </tr>\n",
       "    <tr>\n",
       "      <th>12</th>\n",
       "      <td>100000013</td>\n",
       "      <td>1</td>\n",
       "      <td>1</td>\n",
       "      <td>22</td>\n",
       "      <td>1</td>\n",
       "      <td>108687</td>\n",
       "      <td>1</td>\n",
       "      <td>2</td>\n",
       "    </tr>\n",
       "    <tr>\n",
       "      <th>13</th>\n",
       "      <td>100000014</td>\n",
       "      <td>0</td>\n",
       "      <td>0</td>\n",
       "      <td>60</td>\n",
       "      <td>2</td>\n",
       "      <td>89374</td>\n",
       "      <td>0</td>\n",
       "      <td>0</td>\n",
       "    </tr>\n",
       "    <tr>\n",
       "      <th>14</th>\n",
       "      <td>100000015</td>\n",
       "      <td>1</td>\n",
       "      <td>1</td>\n",
       "      <td>28</td>\n",
       "      <td>1</td>\n",
       "      <td>102899</td>\n",
       "      <td>1</td>\n",
       "      <td>1</td>\n",
       "    </tr>\n",
       "    <tr>\n",
       "      <th>15</th>\n",
       "      <td>100000016</td>\n",
       "      <td>1</td>\n",
       "      <td>1</td>\n",
       "      <td>32</td>\n",
       "      <td>1</td>\n",
       "      <td>88428</td>\n",
       "      <td>0</td>\n",
       "      <td>0</td>\n",
       "    </tr>\n",
       "    <tr>\n",
       "      <th>16</th>\n",
       "      <td>100000017</td>\n",
       "      <td>0</td>\n",
       "      <td>0</td>\n",
       "      <td>53</td>\n",
       "      <td>1</td>\n",
       "      <td>125550</td>\n",
       "      <td>1</td>\n",
       "      <td>0</td>\n",
       "    </tr>\n",
       "    <tr>\n",
       "      <th>17</th>\n",
       "      <td>100000018</td>\n",
       "      <td>0</td>\n",
       "      <td>0</td>\n",
       "      <td>25</td>\n",
       "      <td>0</td>\n",
       "      <td>157434</td>\n",
       "      <td>1</td>\n",
       "      <td>2</td>\n",
       "    </tr>\n",
       "    <tr>\n",
       "      <th>18</th>\n",
       "      <td>100000019</td>\n",
       "      <td>1</td>\n",
       "      <td>1</td>\n",
       "      <td>44</td>\n",
       "      <td>2</td>\n",
       "      <td>261952</td>\n",
       "      <td>2</td>\n",
       "      <td>2</td>\n",
       "    </tr>\n",
       "    <tr>\n",
       "      <th>19</th>\n",
       "      <td>100000020</td>\n",
       "      <td>0</td>\n",
       "      <td>0</td>\n",
       "      <td>31</td>\n",
       "      <td>0</td>\n",
       "      <td>144657</td>\n",
       "      <td>1</td>\n",
       "      <td>1</td>\n",
       "    </tr>\n",
       "  </tbody>\n",
       "</table>\n",
       "</div>"
      ],
      "text/plain": [
       "           ID  Sex  Marital status  Age  Education  Income  Occupation  \\\n",
       "0   100000001    0               0   67          2  124670           1   \n",
       "1   100000002    1               1   22          1  150773           1   \n",
       "2   100000003    0               0   49          1   89210           0   \n",
       "3   100000004    0               0   45          1  171565           1   \n",
       "4   100000005    0               0   53          1  149031           1   \n",
       "5   100000006    0               0   35          1  144848           0   \n",
       "6   100000007    0               0   53          1  156495           1   \n",
       "7   100000008    0               0   35          1  193621           2   \n",
       "8   100000009    0               1   61          2  151591           0   \n",
       "9   100000010    0               1   28          1  174646           2   \n",
       "10  100000011    1               1   25          1  108469           1   \n",
       "11  100000012    1               1   24          1  127596           1   \n",
       "12  100000013    1               1   22          1  108687           1   \n",
       "13  100000014    0               0   60          2   89374           0   \n",
       "14  100000015    1               1   28          1  102899           1   \n",
       "15  100000016    1               1   32          1   88428           0   \n",
       "16  100000017    0               0   53          1  125550           1   \n",
       "17  100000018    0               0   25          0  157434           1   \n",
       "18  100000019    1               1   44          2  261952           2   \n",
       "19  100000020    0               0   31          0  144657           1   \n",
       "\n",
       "    Settlement size  \n",
       "0                 2  \n",
       "1                 2  \n",
       "2                 0  \n",
       "3                 1  \n",
       "4                 1  \n",
       "5                 0  \n",
       "6                 1  \n",
       "7                 1  \n",
       "8                 0  \n",
       "9                 0  \n",
       "10                0  \n",
       "11                0  \n",
       "12                2  \n",
       "13                0  \n",
       "14                1  \n",
       "15                0  \n",
       "16                0  \n",
       "17                2  \n",
       "18                2  \n",
       "19                1  "
      ]
     },
     "execution_count": 196,
     "metadata": {},
     "output_type": "execute_result"
    }
   ],
   "source": [
    "df.head(20)"
   ]
  },
  {
   "cell_type": "code",
   "execution_count": 197,
   "id": "387c2cc6",
   "metadata": {},
   "outputs": [
    {
     "data": {
      "text/plain": [
       "Sex\n",
       "0    1086\n",
       "1     914\n",
       "Name: ID, dtype: int64"
      ]
     },
     "execution_count": 197,
     "metadata": {},
     "output_type": "execute_result"
    }
   ],
   "source": [
    "# sex vise customer count\n",
    "a= df.groupby(['Sex'])['ID'].count()\n",
    "a"
   ]
  },
  {
   "cell_type": "code",
   "execution_count": 198,
   "id": "b064bc73",
   "metadata": {},
   "outputs": [
    {
     "data": {
      "text/plain": [
       "Sex\n",
       "0      1086\n",
       "1       914\n",
       "dtype: int64"
      ]
     },
     "execution_count": 198,
     "metadata": {},
     "output_type": "execute_result"
    }
   ],
   "source": [
    "a=df.value_counts(['Sex'])\n",
    "a"
   ]
  },
  {
   "cell_type": "code",
   "execution_count": 199,
   "id": "96e757a5",
   "metadata": {},
   "outputs": [
    {
     "data": {
      "image/png": "[encoded data removed]",
      "text/plain": [
       "<Figure size 640x480 with 1 Axes>"
      ]
     },
     "metadata": {},
     "output_type": "display_data"
    }
   ],
   "source": [
    "# plotting a countplot\n",
    "sns.countplot(x=df['Sex'],order=df['Sex'].value_counts().sort_values().index)\n",
    "plt.grid(axis='y')\n",
    "plt.xlabel(\"Distribution of sex, 1-Female, 0-Male\")\n",
    "plt.ylabel(\"count of each sex\")\n",
    "plt.show()"
   ]
  },
  {
   "cell_type": "code",
   "execution_count": 200,
   "id": "a9e0f35c",
   "metadata": {},
   "outputs": [
    {
     "name": "stdout",
     "output_type": "stream",
     "text": [
      "overall mean income is:  120954.419\n"
     ]
    },
    {
     "data": {
      "text/plain": [
       "Sex\n",
       "0    569\n",
       "1    303\n",
       "Name: ID, dtype: int64"
      ]
     },
     "execution_count": 200,
     "metadata": {},
     "output_type": "execute_result"
    }
   ],
   "source": [
    "# sex vise customer count with income > mean income\n",
    "mean_income=df['Income'].mean()\n",
    "print(\"overall mean income is: \",mean_income)\n",
    "b=df[df['Income']>mean_income]\n",
    "b\n",
    "c=b.groupby(['Sex'])['ID'].count()\n",
    "c"
   ]
  },
  {
   "cell_type": "code",
   "execution_count": 201,
   "id": "cf1200bd",
   "metadata": {},
   "outputs": [
    {
     "data": {
      "image/png": "[encoded data removed]",
      "text/plain": [
       "<Figure size 640x480 with 1 Axes>"
      ]
     },
     "metadata": {},
     "output_type": "display_data"
    }
   ],
   "source": [
    "c.plot(kind='bar',color=['green','red'])\n",
    "plt.grid(axis='y')\n",
    "plt.show()"
   ]
  },
  {
   "cell_type": "code",
   "execution_count": 202,
   "id": "e01ca459",
   "metadata": {},
   "outputs": [
    {
     "data": {
      "image/png": "[encoded data removed]",
      "text/plain": [
       "<Figure size 640x480 with 1 Axes>"
      ]
     },
     "metadata": {},
     "output_type": "display_data"
    }
   ],
   "source": [
    "# mariatal status vise customer count\n",
    "sns.countplot(x=df['Marital status'])\n",
    "plt.grid()\n",
    "plt.show()"
   ]
  },
  {
   "cell_type": "code",
   "execution_count": 203,
   "id": "95392b61",
   "metadata": {},
   "outputs": [
    {
     "data": {
      "text/plain": [
       "<Axes: xlabel='Income'>"
      ]
     },
     "execution_count": 203,
     "metadata": {},
     "output_type": "execute_result"
    },
    {
     "data": {
      "image/png": "[encoded data removed]",
      "text/plain": [
       "<Figure size 640x480 with 1 Axes>"
      ]
     },
     "metadata": {},
     "output_type": "display_data"
    }
   ],
   "source": [
    "sns.violinplot(x=df['Income'])"
   ]
  },
  {
   "cell_type": "code",
   "execution_count": 204,
   "id": "190654f1",
   "metadata": {},
   "outputs": [
    {
     "data": {
      "image/png": "[encoded data removed]",
      "text/plain": [
       "<Figure size 640x480 with 1 Axes>"
      ]
     },
     "metadata": {},
     "output_type": "display_data"
    }
   ],
   "source": [
    "# education level based customer count\n",
    "sns.countplot(y=df['Education'])\n",
    "plt.show()"
   ]
  },
  {
   "cell_type": "code",
   "execution_count": 205,
   "id": "bdb25fbc",
   "metadata": {},
   "outputs": [
    {
     "data": {
      "image/png": "[encoded data removed]",
      "text/plain": [
       "<Figure size 600x600 with 3 Axes>"
      ]
     },
     "metadata": {},
     "output_type": "display_data"
    }
   ],
   "source": [
    "# age and income distribution\n",
    "sns.jointplot(x=df['Age'],y=df['Income'],hue=df['Education'],palette='Set2')\n",
    "plt.show()"
   ]
  },
  {
   "cell_type": "markdown",
   "id": "442d5261",
   "metadata": {},
   "source": [
    "### CORRELATION"
   ]
  },
  {
   "cell_type": "code",
   "execution_count": 206,
   "id": "953d8de2",
   "metadata": {},
   "outputs": [
    {
     "name": "stdout",
     "output_type": "stream",
     "text": [
      "<class 'pandas.core.frame.DataFrame'>\n"
     ]
    },
    {
     "data": {
      "text/html": [
       "<div>\n",
       "<style scoped>\n",
       "    .dataframe tbody tr th:only-of-type {\n",
       "        vertical-align: middle;\n",
       "    }\n",
       "\n",
       "    .dataframe tbody tr th {\n",
       "        vertical-align: top;\n",
       "    }\n",
       "\n",
       "    .dataframe thead th {\n",
       "        text-align: right;\n",
       "    }\n",
       "</style>\n",
       "<table border=\"1\" class=\"dataframe\">\n",
       "  <thead>\n",
       "    <tr style=\"text-align: right;\">\n",
       "      <th></th>\n",
       "      <th>ID</th>\n",
       "      <th>Sex</th>\n",
       "      <th>Marital status</th>\n",
       "      <th>Age</th>\n",
       "      <th>Education</th>\n",
       "      <th>Income</th>\n",
       "      <th>Occupation</th>\n",
       "      <th>Settlement size</th>\n",
       "    </tr>\n",
       "  </thead>\n",
       "  <tbody>\n",
       "    <tr>\n",
       "      <th>ID</th>\n",
       "      <td>1.000000</td>\n",
       "      <td>0.328262</td>\n",
       "      <td>0.074403</td>\n",
       "      <td>-0.085246</td>\n",
       "      <td>0.012543</td>\n",
       "      <td>-0.303217</td>\n",
       "      <td>-0.291958</td>\n",
       "      <td>-0.378445</td>\n",
       "    </tr>\n",
       "    <tr>\n",
       "      <th>Sex</th>\n",
       "      <td>0.328262</td>\n",
       "      <td>1.000000</td>\n",
       "      <td>0.566511</td>\n",
       "      <td>-0.182885</td>\n",
       "      <td>0.244838</td>\n",
       "      <td>-0.195146</td>\n",
       "      <td>-0.202491</td>\n",
       "      <td>-0.300803</td>\n",
       "    </tr>\n",
       "    <tr>\n",
       "      <th>Marital status</th>\n",
       "      <td>0.074403</td>\n",
       "      <td>0.566511</td>\n",
       "      <td>1.000000</td>\n",
       "      <td>-0.213178</td>\n",
       "      <td>0.374017</td>\n",
       "      <td>-0.073528</td>\n",
       "      <td>-0.029490</td>\n",
       "      <td>-0.097041</td>\n",
       "    </tr>\n",
       "    <tr>\n",
       "      <th>Age</th>\n",
       "      <td>-0.085246</td>\n",
       "      <td>-0.182885</td>\n",
       "      <td>-0.213178</td>\n",
       "      <td>1.000000</td>\n",
       "      <td>0.654605</td>\n",
       "      <td>0.340610</td>\n",
       "      <td>0.108388</td>\n",
       "      <td>0.119751</td>\n",
       "    </tr>\n",
       "    <tr>\n",
       "      <th>Education</th>\n",
       "      <td>0.012543</td>\n",
       "      <td>0.244838</td>\n",
       "      <td>0.374017</td>\n",
       "      <td>0.654605</td>\n",
       "      <td>1.000000</td>\n",
       "      <td>0.233459</td>\n",
       "      <td>0.064524</td>\n",
       "      <td>0.034732</td>\n",
       "    </tr>\n",
       "    <tr>\n",
       "      <th>Income</th>\n",
       "      <td>-0.303217</td>\n",
       "      <td>-0.195146</td>\n",
       "      <td>-0.073528</td>\n",
       "      <td>0.340610</td>\n",
       "      <td>0.233459</td>\n",
       "      <td>1.000000</td>\n",
       "      <td>0.680357</td>\n",
       "      <td>0.490881</td>\n",
       "    </tr>\n",
       "    <tr>\n",
       "      <th>Occupation</th>\n",
       "      <td>-0.291958</td>\n",
       "      <td>-0.202491</td>\n",
       "      <td>-0.029490</td>\n",
       "      <td>0.108388</td>\n",
       "      <td>0.064524</td>\n",
       "      <td>0.680357</td>\n",
       "      <td>1.000000</td>\n",
       "      <td>0.571795</td>\n",
       "    </tr>\n",
       "    <tr>\n",
       "      <th>Settlement size</th>\n",
       "      <td>-0.378445</td>\n",
       "      <td>-0.300803</td>\n",
       "      <td>-0.097041</td>\n",
       "      <td>0.119751</td>\n",
       "      <td>0.034732</td>\n",
       "      <td>0.490881</td>\n",
       "      <td>0.571795</td>\n",
       "      <td>1.000000</td>\n",
       "    </tr>\n",
       "  </tbody>\n",
       "</table>\n",
       "</div>"
      ],
      "text/plain": [
       "                       ID       Sex  Marital status       Age  Education  \\\n",
       "ID               1.000000  0.328262        0.074403 -0.085246   0.012543   \n",
       "Sex              0.328262  1.000000        0.566511 -0.182885   0.244838   \n",
       "Marital status   0.074403  0.566511        1.000000 -0.213178   0.374017   \n",
       "Age             -0.085246 -0.182885       -0.213178  1.000000   0.654605   \n",
       "Education        0.012543  0.244838        0.374017  0.654605   1.000000   \n",
       "Income          -0.303217 -0.195146       -0.073528  0.340610   0.233459   \n",
       "Occupation      -0.291958 -0.202491       -0.029490  0.108388   0.064524   \n",
       "Settlement size -0.378445 -0.300803       -0.097041  0.119751   0.034732   \n",
       "\n",
       "                   Income  Occupation  Settlement size  \n",
       "ID              -0.303217   -0.291958        -0.378445  \n",
       "Sex             -0.195146   -0.202491        -0.300803  \n",
       "Marital status  -0.073528   -0.029490        -0.097041  \n",
       "Age              0.340610    0.108388         0.119751  \n",
       "Education        0.233459    0.064524         0.034732  \n",
       "Income           1.000000    0.680357         0.490881  \n",
       "Occupation       0.680357    1.000000         0.571795  \n",
       "Settlement size  0.490881    0.571795         1.000000  "
      ]
     },
     "execution_count": 206,
     "metadata": {},
     "output_type": "execute_result"
    }
   ],
   "source": [
    "corr=df.corr()\n",
    "print(type(corr))\n",
    "corr"
   ]
  },
  {
   "cell_type": "code",
   "execution_count": 207,
   "id": "5a007813",
   "metadata": {},
   "outputs": [
    {
     "data": {
      "image/png": "[encoded data removed]",
      "text/plain": [
       "<Figure size 640x480 with 2 Axes>"
      ]
     },
     "metadata": {},
     "output_type": "display_data"
    }
   ],
   "source": [
    "sns.heatmap(corr,annot=True)\n",
    "plt.show()"
   ]
  },
  {
   "cell_type": "markdown",
   "id": "35bc6130",
   "metadata": {},
   "source": [
    "#### Education and age are strongly correlated\n",
    "#### Ocuupation and income are strongly correlated\n",
    "#### Occupation and Settlement size are moderately correlated"
   ]
  },
  {
   "cell_type": "markdown",
   "id": "47a3d8a4",
   "metadata": {},
   "source": [
    "### Outlier Treatment"
   ]
  },
  {
   "cell_type": "code",
   "execution_count": 208,
   "id": "3da360d8",
   "metadata": {},
   "outputs": [
    {
     "data": {
      "text/plain": [
       "Index(['ID', 'Sex', 'Marital status', 'Age', 'Education', 'Income',\n",
       "       'Occupation', 'Settlement size'],\n",
       "      dtype='object')"
      ]
     },
     "execution_count": 208,
     "metadata": {},
     "output_type": "execute_result"
    }
   ],
   "source": [
    "df.columns"
   ]
  },
  {
   "cell_type": "code",
   "execution_count": 209,
   "id": "bdc0d864",
   "metadata": {},
   "outputs": [
    {
     "data": {
      "text/html": [
       "<div>\n",
       "<style scoped>\n",
       "    .dataframe tbody tr th:only-of-type {\n",
       "        vertical-align: middle;\n",
       "    }\n",
       "\n",
       "    .dataframe tbody tr th {\n",
       "        vertical-align: top;\n",
       "    }\n",
       "\n",
       "    .dataframe thead th {\n",
       "        text-align: right;\n",
       "    }\n",
       "</style>\n",
       "<table border=\"1\" class=\"dataframe\">\n",
       "  <thead>\n",
       "    <tr style=\"text-align: right;\">\n",
       "      <th></th>\n",
       "      <th>mean</th>\n",
       "      <th>std</th>\n",
       "      <th>min</th>\n",
       "      <th>1%</th>\n",
       "      <th>3%</th>\n",
       "      <th>5%</th>\n",
       "      <th>50%</th>\n",
       "      <th>95%</th>\n",
       "      <th>97%</th>\n",
       "      <th>98%</th>\n",
       "      <th>99%</th>\n",
       "      <th>max</th>\n",
       "    </tr>\n",
       "  </thead>\n",
       "  <tbody>\n",
       "    <tr>\n",
       "      <th>Sex</th>\n",
       "      <td>0.4570</td>\n",
       "      <td>0.498272</td>\n",
       "      <td>0.0</td>\n",
       "      <td>0.00</td>\n",
       "      <td>0.0</td>\n",
       "      <td>0.0</td>\n",
       "      <td>0.0</td>\n",
       "      <td>1.0</td>\n",
       "      <td>1.00</td>\n",
       "      <td>1.00</td>\n",
       "      <td>1.0</td>\n",
       "      <td>1.0</td>\n",
       "    </tr>\n",
       "    <tr>\n",
       "      <th>Marital status</th>\n",
       "      <td>0.4965</td>\n",
       "      <td>0.500113</td>\n",
       "      <td>0.0</td>\n",
       "      <td>0.00</td>\n",
       "      <td>0.0</td>\n",
       "      <td>0.0</td>\n",
       "      <td>0.0</td>\n",
       "      <td>1.0</td>\n",
       "      <td>1.00</td>\n",
       "      <td>1.00</td>\n",
       "      <td>1.0</td>\n",
       "      <td>1.0</td>\n",
       "    </tr>\n",
       "    <tr>\n",
       "      <th>Age</th>\n",
       "      <td>35.9090</td>\n",
       "      <td>11.719402</td>\n",
       "      <td>18.0</td>\n",
       "      <td>20.00</td>\n",
       "      <td>21.0</td>\n",
       "      <td>22.0</td>\n",
       "      <td>33.0</td>\n",
       "      <td>61.0</td>\n",
       "      <td>64.00</td>\n",
       "      <td>66.00</td>\n",
       "      <td>68.0</td>\n",
       "      <td>76.0</td>\n",
       "    </tr>\n",
       "    <tr>\n",
       "      <th>Education</th>\n",
       "      <td>1.0380</td>\n",
       "      <td>0.599780</td>\n",
       "      <td>0.0</td>\n",
       "      <td>0.00</td>\n",
       "      <td>0.0</td>\n",
       "      <td>0.0</td>\n",
       "      <td>1.0</td>\n",
       "      <td>2.0</td>\n",
       "      <td>2.00</td>\n",
       "      <td>2.00</td>\n",
       "      <td>3.0</td>\n",
       "      <td>3.0</td>\n",
       "    </tr>\n",
       "    <tr>\n",
       "      <th>Income</th>\n",
       "      <td>120954.4190</td>\n",
       "      <td>38108.824679</td>\n",
       "      <td>35832.0</td>\n",
       "      <td>51881.09</td>\n",
       "      <td>63969.3</td>\n",
       "      <td>68248.6</td>\n",
       "      <td>115548.5</td>\n",
       "      <td>190871.2</td>\n",
       "      <td>212059.39</td>\n",
       "      <td>222373.16</td>\n",
       "      <td>260848.3</td>\n",
       "      <td>309364.0</td>\n",
       "    </tr>\n",
       "    <tr>\n",
       "      <th>Occupation</th>\n",
       "      <td>0.8105</td>\n",
       "      <td>0.638587</td>\n",
       "      <td>0.0</td>\n",
       "      <td>0.00</td>\n",
       "      <td>0.0</td>\n",
       "      <td>0.0</td>\n",
       "      <td>1.0</td>\n",
       "      <td>2.0</td>\n",
       "      <td>2.00</td>\n",
       "      <td>2.00</td>\n",
       "      <td>2.0</td>\n",
       "      <td>2.0</td>\n",
       "    </tr>\n",
       "    <tr>\n",
       "      <th>Settlement size</th>\n",
       "      <td>0.7390</td>\n",
       "      <td>0.812533</td>\n",
       "      <td>0.0</td>\n",
       "      <td>0.00</td>\n",
       "      <td>0.0</td>\n",
       "      <td>0.0</td>\n",
       "      <td>1.0</td>\n",
       "      <td>2.0</td>\n",
       "      <td>2.00</td>\n",
       "      <td>2.00</td>\n",
       "      <td>2.0</td>\n",
       "      <td>2.0</td>\n",
       "    </tr>\n",
       "  </tbody>\n",
       "</table>\n",
       "</div>"
      ],
      "text/plain": [
       "                        mean           std      min        1%       3%  \\\n",
       "Sex                   0.4570      0.498272      0.0      0.00      0.0   \n",
       "Marital status        0.4965      0.500113      0.0      0.00      0.0   \n",
       "Age                  35.9090     11.719402     18.0     20.00     21.0   \n",
       "Education             1.0380      0.599780      0.0      0.00      0.0   \n",
       "Income           120954.4190  38108.824679  35832.0  51881.09  63969.3   \n",
       "Occupation            0.8105      0.638587      0.0      0.00      0.0   \n",
       "Settlement size       0.7390      0.812533      0.0      0.00      0.0   \n",
       "\n",
       "                      5%       50%       95%        97%        98%       99%  \\\n",
       "Sex                  0.0       0.0       1.0       1.00       1.00       1.0   \n",
       "Marital status       0.0       0.0       1.0       1.00       1.00       1.0   \n",
       "Age                 22.0      33.0      61.0      64.00      66.00      68.0   \n",
       "Education            0.0       1.0       2.0       2.00       2.00       3.0   \n",
       "Income           68248.6  115548.5  190871.2  212059.39  222373.16  260848.3   \n",
       "Occupation           0.0       1.0       2.0       2.00       2.00       2.0   \n",
       "Settlement size      0.0       1.0       2.0       2.00       2.00       2.0   \n",
       "\n",
       "                      max  \n",
       "Sex                   1.0  \n",
       "Marital status        1.0  \n",
       "Age                  76.0  \n",
       "Education             3.0  \n",
       "Income           309364.0  \n",
       "Occupation            2.0  \n",
       "Settlement size       2.0  "
      ]
     },
     "execution_count": 209,
     "metadata": {},
     "output_type": "execute_result"
    }
   ],
   "source": [
    "a  = df.iloc[:,1:].describe(percentiles=[0.01,0.03,0.05,0.95,0.97,0.98,0.99]).T\n",
    "a = a.iloc[:,1:]\n",
    "a"
   ]
  },
  {
   "cell_type": "code",
   "execution_count": 210,
   "id": "d680a6ea",
   "metadata": {},
   "outputs": [],
   "source": [
    "# HANDLING OUTLIERS IN AGE AND INCOME COLUMNS"
   ]
  },
  {
   "cell_type": "code",
   "execution_count": 211,
   "id": "28cfb70d",
   "metadata": {},
   "outputs": [],
   "source": [
    "def outlier_treatment(x):\n",
    "    x = x.clip(upper= x.quantile(0.99))\n",
    "    x= x.clip(lower=x.quantile(0.01))\n",
    "    return x"
   ]
  },
  {
   "cell_type": "code",
   "execution_count": 212,
   "id": "f94653d3",
   "metadata": {},
   "outputs": [],
   "source": [
    "df[df.columns[1:]] = df[df.columns[1:]].apply(outlier_treatment)"
   ]
  },
  {
   "cell_type": "code",
   "execution_count": 213,
   "id": "69c542f9",
   "metadata": {},
   "outputs": [
    {
     "data": {
      "text/html": [
       "<div>\n",
       "<style scoped>\n",
       "    .dataframe tbody tr th:only-of-type {\n",
       "        vertical-align: middle;\n",
       "    }\n",
       "\n",
       "    .dataframe tbody tr th {\n",
       "        vertical-align: top;\n",
       "    }\n",
       "\n",
       "    .dataframe thead th {\n",
       "        text-align: right;\n",
       "    }\n",
       "</style>\n",
       "<table border=\"1\" class=\"dataframe\">\n",
       "  <thead>\n",
       "    <tr style=\"text-align: right;\">\n",
       "      <th></th>\n",
       "      <th>mean</th>\n",
       "      <th>std</th>\n",
       "      <th>min</th>\n",
       "      <th>1%</th>\n",
       "      <th>3%</th>\n",
       "      <th>5%</th>\n",
       "      <th>50%</th>\n",
       "      <th>95%</th>\n",
       "      <th>97%</th>\n",
       "      <th>98%</th>\n",
       "      <th>99%</th>\n",
       "      <th>max</th>\n",
       "    </tr>\n",
       "  </thead>\n",
       "  <tbody>\n",
       "    <tr>\n",
       "      <th>Sex</th>\n",
       "      <td>0.4570</td>\n",
       "      <td>0.498272</td>\n",
       "      <td>0.00</td>\n",
       "      <td>0.0000</td>\n",
       "      <td>0.0</td>\n",
       "      <td>0.0</td>\n",
       "      <td>0.0</td>\n",
       "      <td>1.0</td>\n",
       "      <td>1.00</td>\n",
       "      <td>1.00</td>\n",
       "      <td>1.000</td>\n",
       "      <td>1.0</td>\n",
       "    </tr>\n",
       "    <tr>\n",
       "      <th>Marital status</th>\n",
       "      <td>0.4965</td>\n",
       "      <td>0.500113</td>\n",
       "      <td>0.00</td>\n",
       "      <td>0.0000</td>\n",
       "      <td>0.0</td>\n",
       "      <td>0.0</td>\n",
       "      <td>0.0</td>\n",
       "      <td>1.0</td>\n",
       "      <td>1.00</td>\n",
       "      <td>1.00</td>\n",
       "      <td>1.000</td>\n",
       "      <td>1.0</td>\n",
       "    </tr>\n",
       "    <tr>\n",
       "      <th>Age</th>\n",
       "      <td>35.8715</td>\n",
       "      <td>11.583224</td>\n",
       "      <td>20.00</td>\n",
       "      <td>20.0000</td>\n",
       "      <td>21.0</td>\n",
       "      <td>22.0</td>\n",
       "      <td>33.0</td>\n",
       "      <td>61.0</td>\n",
       "      <td>64.00</td>\n",
       "      <td>66.00</td>\n",
       "      <td>68.000</td>\n",
       "      <td>68.0</td>\n",
       "    </tr>\n",
       "    <tr>\n",
       "      <th>Education</th>\n",
       "      <td>1.0380</td>\n",
       "      <td>0.599780</td>\n",
       "      <td>0.00</td>\n",
       "      <td>0.0000</td>\n",
       "      <td>0.0</td>\n",
       "      <td>0.0</td>\n",
       "      <td>1.0</td>\n",
       "      <td>2.0</td>\n",
       "      <td>2.00</td>\n",
       "      <td>2.00</td>\n",
       "      <td>3.000</td>\n",
       "      <td>3.0</td>\n",
       "    </tr>\n",
       "    <tr>\n",
       "      <th>Income</th>\n",
       "      <td>120829.8344</td>\n",
       "      <td>37163.662246</td>\n",
       "      <td>51881.09</td>\n",
       "      <td>51881.9909</td>\n",
       "      <td>63969.3</td>\n",
       "      <td>68248.6</td>\n",
       "      <td>115548.5</td>\n",
       "      <td>190871.2</td>\n",
       "      <td>212059.39</td>\n",
       "      <td>222373.16</td>\n",
       "      <td>260847.013</td>\n",
       "      <td>260848.3</td>\n",
       "    </tr>\n",
       "    <tr>\n",
       "      <th>Occupation</th>\n",
       "      <td>0.8105</td>\n",
       "      <td>0.638587</td>\n",
       "      <td>0.00</td>\n",
       "      <td>0.0000</td>\n",
       "      <td>0.0</td>\n",
       "      <td>0.0</td>\n",
       "      <td>1.0</td>\n",
       "      <td>2.0</td>\n",
       "      <td>2.00</td>\n",
       "      <td>2.00</td>\n",
       "      <td>2.000</td>\n",
       "      <td>2.0</td>\n",
       "    </tr>\n",
       "    <tr>\n",
       "      <th>Settlement size</th>\n",
       "      <td>0.7390</td>\n",
       "      <td>0.812533</td>\n",
       "      <td>0.00</td>\n",
       "      <td>0.0000</td>\n",
       "      <td>0.0</td>\n",
       "      <td>0.0</td>\n",
       "      <td>1.0</td>\n",
       "      <td>2.0</td>\n",
       "      <td>2.00</td>\n",
       "      <td>2.00</td>\n",
       "      <td>2.000</td>\n",
       "      <td>2.0</td>\n",
       "    </tr>\n",
       "  </tbody>\n",
       "</table>\n",
       "</div>"
      ],
      "text/plain": [
       "                        mean           std       min          1%       3%  \\\n",
       "Sex                   0.4570      0.498272      0.00      0.0000      0.0   \n",
       "Marital status        0.4965      0.500113      0.00      0.0000      0.0   \n",
       "Age                  35.8715     11.583224     20.00     20.0000     21.0   \n",
       "Education             1.0380      0.599780      0.00      0.0000      0.0   \n",
       "Income           120829.8344  37163.662246  51881.09  51881.9909  63969.3   \n",
       "Occupation            0.8105      0.638587      0.00      0.0000      0.0   \n",
       "Settlement size       0.7390      0.812533      0.00      0.0000      0.0   \n",
       "\n",
       "                      5%       50%       95%        97%        98%  \\\n",
       "Sex                  0.0       0.0       1.0       1.00       1.00   \n",
       "Marital status       0.0       0.0       1.0       1.00       1.00   \n",
       "Age                 22.0      33.0      61.0      64.00      66.00   \n",
       "Education            0.0       1.0       2.0       2.00       2.00   \n",
       "Income           68248.6  115548.5  190871.2  212059.39  222373.16   \n",
       "Occupation           0.0       1.0       2.0       2.00       2.00   \n",
       "Settlement size      0.0       1.0       2.0       2.00       2.00   \n",
       "\n",
       "                        99%       max  \n",
       "Sex                   1.000       1.0  \n",
       "Marital status        1.000       1.0  \n",
       "Age                  68.000      68.0  \n",
       "Education             3.000       3.0  \n",
       "Income           260847.013  260848.3  \n",
       "Occupation            2.000       2.0  \n",
       "Settlement size       2.000       2.0  "
      ]
     },
     "execution_count": 213,
     "metadata": {},
     "output_type": "execute_result"
    }
   ],
   "source": [
    "a  = df.iloc[:,1:].describe(percentiles=[0.01,0.03,0.05,0.95,0.97,0.98,0.99]).T\n",
    "a = a.iloc[:,1:]\n",
    "a"
   ]
  },
  {
   "cell_type": "code",
   "execution_count": 214,
   "id": "fb64d9cf",
   "metadata": {},
   "outputs": [
    {
     "data": {
      "text/html": [
       "<div>\n",
       "<style scoped>\n",
       "    .dataframe tbody tr th:only-of-type {\n",
       "        vertical-align: middle;\n",
       "    }\n",
       "\n",
       "    .dataframe tbody tr th {\n",
       "        vertical-align: top;\n",
       "    }\n",
       "\n",
       "    .dataframe thead th {\n",
       "        text-align: right;\n",
       "    }\n",
       "</style>\n",
       "<table border=\"1\" class=\"dataframe\">\n",
       "  <thead>\n",
       "    <tr style=\"text-align: right;\">\n",
       "      <th></th>\n",
       "      <th>ID</th>\n",
       "      <th>Sex</th>\n",
       "      <th>Marital status</th>\n",
       "      <th>Age</th>\n",
       "      <th>Education</th>\n",
       "      <th>Income</th>\n",
       "      <th>Occupation</th>\n",
       "      <th>Settlement size</th>\n",
       "    </tr>\n",
       "  </thead>\n",
       "  <tbody>\n",
       "    <tr>\n",
       "      <th>count</th>\n",
       "      <td>2.000000e+03</td>\n",
       "      <td>2000.000000</td>\n",
       "      <td>2000.000000</td>\n",
       "      <td>2000.000000</td>\n",
       "      <td>2000.00000</td>\n",
       "      <td>2000.000000</td>\n",
       "      <td>2000.000000</td>\n",
       "      <td>2000.000000</td>\n",
       "    </tr>\n",
       "    <tr>\n",
       "      <th>mean</th>\n",
       "      <td>1.000010e+08</td>\n",
       "      <td>0.457000</td>\n",
       "      <td>0.496500</td>\n",
       "      <td>35.871500</td>\n",
       "      <td>1.03800</td>\n",
       "      <td>120829.834400</td>\n",
       "      <td>0.810500</td>\n",
       "      <td>0.739000</td>\n",
       "    </tr>\n",
       "    <tr>\n",
       "      <th>std</th>\n",
       "      <td>5.774946e+02</td>\n",
       "      <td>0.498272</td>\n",
       "      <td>0.500113</td>\n",
       "      <td>11.583224</td>\n",
       "      <td>0.59978</td>\n",
       "      <td>37163.662246</td>\n",
       "      <td>0.638587</td>\n",
       "      <td>0.812533</td>\n",
       "    </tr>\n",
       "    <tr>\n",
       "      <th>min</th>\n",
       "      <td>1.000000e+08</td>\n",
       "      <td>0.000000</td>\n",
       "      <td>0.000000</td>\n",
       "      <td>20.000000</td>\n",
       "      <td>0.00000</td>\n",
       "      <td>51881.090000</td>\n",
       "      <td>0.000000</td>\n",
       "      <td>0.000000</td>\n",
       "    </tr>\n",
       "    <tr>\n",
       "      <th>25%</th>\n",
       "      <td>1.000005e+08</td>\n",
       "      <td>0.000000</td>\n",
       "      <td>0.000000</td>\n",
       "      <td>27.000000</td>\n",
       "      <td>1.00000</td>\n",
       "      <td>97663.250000</td>\n",
       "      <td>0.000000</td>\n",
       "      <td>0.000000</td>\n",
       "    </tr>\n",
       "    <tr>\n",
       "      <th>50%</th>\n",
       "      <td>1.000010e+08</td>\n",
       "      <td>0.000000</td>\n",
       "      <td>0.000000</td>\n",
       "      <td>33.000000</td>\n",
       "      <td>1.00000</td>\n",
       "      <td>115548.500000</td>\n",
       "      <td>1.000000</td>\n",
       "      <td>1.000000</td>\n",
       "    </tr>\n",
       "    <tr>\n",
       "      <th>75%</th>\n",
       "      <td>1.000015e+08</td>\n",
       "      <td>1.000000</td>\n",
       "      <td>1.000000</td>\n",
       "      <td>42.000000</td>\n",
       "      <td>1.00000</td>\n",
       "      <td>138072.250000</td>\n",
       "      <td>1.000000</td>\n",
       "      <td>1.000000</td>\n",
       "    </tr>\n",
       "    <tr>\n",
       "      <th>max</th>\n",
       "      <td>1.000020e+08</td>\n",
       "      <td>1.000000</td>\n",
       "      <td>1.000000</td>\n",
       "      <td>68.000000</td>\n",
       "      <td>3.00000</td>\n",
       "      <td>260848.300000</td>\n",
       "      <td>2.000000</td>\n",
       "      <td>2.000000</td>\n",
       "    </tr>\n",
       "  </tbody>\n",
       "</table>\n",
       "</div>"
      ],
      "text/plain": [
       "                 ID          Sex  Marital status          Age   Education  \\\n",
       "count  2.000000e+03  2000.000000     2000.000000  2000.000000  2000.00000   \n",
       "mean   1.000010e+08     0.457000        0.496500    35.871500     1.03800   \n",
       "std    5.774946e+02     0.498272        0.500113    11.583224     0.59978   \n",
       "min    1.000000e+08     0.000000        0.000000    20.000000     0.00000   \n",
       "25%    1.000005e+08     0.000000        0.000000    27.000000     1.00000   \n",
       "50%    1.000010e+08     0.000000        0.000000    33.000000     1.00000   \n",
       "75%    1.000015e+08     1.000000        1.000000    42.000000     1.00000   \n",
       "max    1.000020e+08     1.000000        1.000000    68.000000     3.00000   \n",
       "\n",
       "              Income   Occupation  Settlement size  \n",
       "count    2000.000000  2000.000000      2000.000000  \n",
       "mean   120829.834400     0.810500         0.739000  \n",
       "std     37163.662246     0.638587         0.812533  \n",
       "min     51881.090000     0.000000         0.000000  \n",
       "25%     97663.250000     0.000000         0.000000  \n",
       "50%    115548.500000     1.000000         1.000000  \n",
       "75%    138072.250000     1.000000         1.000000  \n",
       "max    260848.300000     2.000000         2.000000  "
      ]
     },
     "execution_count": 214,
     "metadata": {},
     "output_type": "execute_result"
    }
   ],
   "source": [
    "df.describe()"
   ]
  },
  {
   "cell_type": "code",
   "execution_count": 215,
   "id": "2afd1411",
   "metadata": {},
   "outputs": [],
   "source": [
    "from sklearn.preprocessing import StandardScaler\n",
    "sc = StandardScaler()"
   ]
  },
  {
   "cell_type": "code",
   "execution_count": 247,
   "id": "59364277",
   "metadata": {},
   "outputs": [
    {
     "data": {
      "text/html": [
       "<div>\n",
       "<style scoped>\n",
       "    .dataframe tbody tr th:only-of-type {\n",
       "        vertical-align: middle;\n",
       "    }\n",
       "\n",
       "    .dataframe tbody tr th {\n",
       "        vertical-align: top;\n",
       "    }\n",
       "\n",
       "    .dataframe thead th {\n",
       "        text-align: right;\n",
       "    }\n",
       "</style>\n",
       "<table border=\"1\" class=\"dataframe\">\n",
       "  <thead>\n",
       "    <tr style=\"text-align: right;\">\n",
       "      <th></th>\n",
       "      <th>ID</th>\n",
       "      <th>Sex</th>\n",
       "      <th>Marital status</th>\n",
       "      <th>Age</th>\n",
       "      <th>Education</th>\n",
       "      <th>Income</th>\n",
       "      <th>Occupation</th>\n",
       "      <th>Settlement size</th>\n",
       "    </tr>\n",
       "  </thead>\n",
       "  <tbody>\n",
       "    <tr>\n",
       "      <th>0</th>\n",
       "      <td>-1.731185</td>\n",
       "      <td>-0.917399</td>\n",
       "      <td>-0.993024</td>\n",
       "      <td>2.688050</td>\n",
       "      <td>1.604323</td>\n",
       "      <td>0.103357</td>\n",
       "      <td>0.296823</td>\n",
       "      <td>1.552326</td>\n",
       "    </tr>\n",
       "    <tr>\n",
       "      <th>1</th>\n",
       "      <td>-1.729453</td>\n",
       "      <td>1.090038</td>\n",
       "      <td>1.007025</td>\n",
       "      <td>-1.197850</td>\n",
       "      <td>-0.063372</td>\n",
       "      <td>0.805912</td>\n",
       "      <td>0.296823</td>\n",
       "      <td>1.552326</td>\n",
       "    </tr>\n",
       "    <tr>\n",
       "      <th>2</th>\n",
       "      <td>-1.727721</td>\n",
       "      <td>-0.917399</td>\n",
       "      <td>-0.993024</td>\n",
       "      <td>1.133690</td>\n",
       "      <td>-0.063372</td>\n",
       "      <td>-0.851039</td>\n",
       "      <td>-1.269525</td>\n",
       "      <td>-0.909730</td>\n",
       "    </tr>\n",
       "    <tr>\n",
       "      <th>3</th>\n",
       "      <td>-1.725989</td>\n",
       "      <td>-0.917399</td>\n",
       "      <td>-0.993024</td>\n",
       "      <td>0.788276</td>\n",
       "      <td>-0.063372</td>\n",
       "      <td>1.365524</td>\n",
       "      <td>0.296823</td>\n",
       "      <td>0.321298</td>\n",
       "    </tr>\n",
       "    <tr>\n",
       "      <th>4</th>\n",
       "      <td>-1.724257</td>\n",
       "      <td>-0.917399</td>\n",
       "      <td>-0.993024</td>\n",
       "      <td>1.479103</td>\n",
       "      <td>-0.063372</td>\n",
       "      <td>0.759027</td>\n",
       "      <td>0.296823</td>\n",
       "      <td>0.321298</td>\n",
       "    </tr>\n",
       "    <tr>\n",
       "      <th>...</th>\n",
       "      <td>...</td>\n",
       "      <td>...</td>\n",
       "      <td>...</td>\n",
       "      <td>...</td>\n",
       "      <td>...</td>\n",
       "      <td>...</td>\n",
       "      <td>...</td>\n",
       "      <td>...</td>\n",
       "    </tr>\n",
       "    <tr>\n",
       "      <th>1995</th>\n",
       "      <td>1.724257</td>\n",
       "      <td>1.090038</td>\n",
       "      <td>-0.993024</td>\n",
       "      <td>0.960983</td>\n",
       "      <td>-0.063372</td>\n",
       "      <td>0.072540</td>\n",
       "      <td>-1.269525</td>\n",
       "      <td>-0.909730</td>\n",
       "    </tr>\n",
       "    <tr>\n",
       "      <th>1996</th>\n",
       "      <td>1.725989</td>\n",
       "      <td>1.090038</td>\n",
       "      <td>1.007025</td>\n",
       "      <td>-0.766084</td>\n",
       "      <td>-0.063372</td>\n",
       "      <td>-0.083054</td>\n",
       "      <td>0.296823</td>\n",
       "      <td>-0.909730</td>\n",
       "    </tr>\n",
       "    <tr>\n",
       "      <th>1997</th>\n",
       "      <td>1.727721</td>\n",
       "      <td>-0.917399</td>\n",
       "      <td>-0.993024</td>\n",
       "      <td>-0.420670</td>\n",
       "      <td>-1.731068</td>\n",
       "      <td>-0.926670</td>\n",
       "      <td>-1.269525</td>\n",
       "      <td>-0.909730</td>\n",
       "    </tr>\n",
       "    <tr>\n",
       "      <th>1998</th>\n",
       "      <td>1.729453</td>\n",
       "      <td>1.090038</td>\n",
       "      <td>1.007025</td>\n",
       "      <td>-1.025144</td>\n",
       "      <td>-0.063372</td>\n",
       "      <td>-0.615320</td>\n",
       "      <td>-1.269525</td>\n",
       "      <td>-0.909730</td>\n",
       "    </tr>\n",
       "    <tr>\n",
       "      <th>1999</th>\n",
       "      <td>1.731185</td>\n",
       "      <td>-0.917399</td>\n",
       "      <td>-0.993024</td>\n",
       "      <td>-0.938790</td>\n",
       "      <td>-1.731068</td>\n",
       "      <td>-1.410704</td>\n",
       "      <td>-1.269525</td>\n",
       "      <td>-0.909730</td>\n",
       "    </tr>\n",
       "  </tbody>\n",
       "</table>\n",
       "<p>2000 rows × 8 columns</p>\n",
       "</div>"
      ],
      "text/plain": [
       "            ID       Sex  Marital status       Age  Education    Income  \\\n",
       "0    -1.731185 -0.917399       -0.993024  2.688050   1.604323  0.103357   \n",
       "1    -1.729453  1.090038        1.007025 -1.197850  -0.063372  0.805912   \n",
       "2    -1.727721 -0.917399       -0.993024  1.133690  -0.063372 -0.851039   \n",
       "3    -1.725989 -0.917399       -0.993024  0.788276  -0.063372  1.365524   \n",
       "4    -1.724257 -0.917399       -0.993024  1.479103  -0.063372  0.759027   \n",
       "...        ...       ...             ...       ...        ...       ...   \n",
       "1995  1.724257  1.090038       -0.993024  0.960983  -0.063372  0.072540   \n",
       "1996  1.725989  1.090038        1.007025 -0.766084  -0.063372 -0.083054   \n",
       "1997  1.727721 -0.917399       -0.993024 -0.420670  -1.731068 -0.926670   \n",
       "1998  1.729453  1.090038        1.007025 -1.025144  -0.063372 -0.615320   \n",
       "1999  1.731185 -0.917399       -0.993024 -0.938790  -1.731068 -1.410704   \n",
       "\n",
       "      Occupation  Settlement size  \n",
       "0       0.296823         1.552326  \n",
       "1       0.296823         1.552326  \n",
       "2      -1.269525        -0.909730  \n",
       "3       0.296823         0.321298  \n",
       "4       0.296823         0.321298  \n",
       "...          ...              ...  \n",
       "1995   -1.269525        -0.909730  \n",
       "1996    0.296823        -0.909730  \n",
       "1997   -1.269525        -0.909730  \n",
       "1998   -1.269525        -0.909730  \n",
       "1999   -1.269525        -0.909730  \n",
       "\n",
       "[2000 rows x 8 columns]"
      ]
     },
     "execution_count": 247,
     "metadata": {},
     "output_type": "execute_result"
    }
   ],
   "source": [
    "# SCALING THE DATA\n",
    "sc = StandardScaler()\n",
    "df_sub=df.copy()\n",
    "for i in df.columns:\n",
    "    df_sub[i]=sc.fit_transform(df[[i]])\n",
    "    \n",
    "df_sub   "
   ]
  },
  {
   "cell_type": "code",
   "execution_count": 216,
   "id": "f442c9a3",
   "metadata": {
    "scrolled": true
   },
   "outputs": [
    {
     "data": {
      "text/html": [
       "<div>\n",
       "<style scoped>\n",
       "    .dataframe tbody tr th:only-of-type {\n",
       "        vertical-align: middle;\n",
       "    }\n",
       "\n",
       "    .dataframe tbody tr th {\n",
       "        vertical-align: top;\n",
       "    }\n",
       "\n",
       "    .dataframe thead th {\n",
       "        text-align: right;\n",
       "    }\n",
       "</style>\n",
       "<table border=\"1\" class=\"dataframe\">\n",
       "  <thead>\n",
       "    <tr style=\"text-align: right;\">\n",
       "      <th></th>\n",
       "      <th>Age</th>\n",
       "      <th>Income</th>\n",
       "    </tr>\n",
       "  </thead>\n",
       "  <tbody>\n",
       "    <tr>\n",
       "      <th>0</th>\n",
       "      <td>67</td>\n",
       "      <td>124670.0</td>\n",
       "    </tr>\n",
       "    <tr>\n",
       "      <th>1</th>\n",
       "      <td>22</td>\n",
       "      <td>150773.0</td>\n",
       "    </tr>\n",
       "    <tr>\n",
       "      <th>2</th>\n",
       "      <td>49</td>\n",
       "      <td>89210.0</td>\n",
       "    </tr>\n",
       "    <tr>\n",
       "      <th>3</th>\n",
       "      <td>45</td>\n",
       "      <td>171565.0</td>\n",
       "    </tr>\n",
       "    <tr>\n",
       "      <th>4</th>\n",
       "      <td>53</td>\n",
       "      <td>149031.0</td>\n",
       "    </tr>\n",
       "  </tbody>\n",
       "</table>\n",
       "</div>"
      ],
      "text/plain": [
       "   Age    Income\n",
       "0   67  124670.0\n",
       "1   22  150773.0\n",
       "2   49   89210.0\n",
       "3   45  171565.0\n",
       "4   53  149031.0"
      ]
     },
     "execution_count": 216,
     "metadata": {},
     "output_type": "execute_result"
    }
   ],
   "source": [
    "df_subset=df[['Age','Income']]\n",
    "df_subset.head()"
   ]
  },
  {
   "cell_type": "code",
   "execution_count": 217,
   "id": "556c4f69",
   "metadata": {},
   "outputs": [],
   "source": [
    "sc.fit(df_subset)\n",
    "df_sc = sc.transform(df_subset)"
   ]
  },
  {
   "cell_type": "code",
   "execution_count": 218,
   "id": "066efcf8",
   "metadata": {
    "scrolled": true
   },
   "outputs": [
    {
     "name": "stdout",
     "output_type": "stream",
     "text": [
      "(2000, 2)\n",
      "<class 'numpy.ndarray'>\n"
     ]
    }
   ],
   "source": [
    "print(df_sc.shape)\n",
    "print(type(df_sc))"
   ]
  },
  {
   "cell_type": "code",
   "execution_count": 219,
   "id": "f68d208e",
   "metadata": {},
   "outputs": [
    {
     "data": {
      "text/plain": [
       "Index(['ID', 'Sex', 'Marital status', 'Age', 'Education', 'Income',\n",
       "       'Occupation', 'Settlement size'],\n",
       "      dtype='object')"
      ]
     },
     "execution_count": 219,
     "metadata": {},
     "output_type": "execute_result"
    }
   ],
   "source": [
    "df.columns"
   ]
  },
  {
   "cell_type": "code",
   "execution_count": 220,
   "id": "97e88310",
   "metadata": {},
   "outputs": [
    {
     "data": {
      "text/html": [
       "<div>\n",
       "<style scoped>\n",
       "    .dataframe tbody tr th:only-of-type {\n",
       "        vertical-align: middle;\n",
       "    }\n",
       "\n",
       "    .dataframe tbody tr th {\n",
       "        vertical-align: top;\n",
       "    }\n",
       "\n",
       "    .dataframe thead th {\n",
       "        text-align: right;\n",
       "    }\n",
       "</style>\n",
       "<table border=\"1\" class=\"dataframe\">\n",
       "  <thead>\n",
       "    <tr style=\"text-align: right;\">\n",
       "      <th></th>\n",
       "      <th>Age</th>\n",
       "      <th>Income</th>\n",
       "    </tr>\n",
       "  </thead>\n",
       "  <tbody>\n",
       "    <tr>\n",
       "      <th>0</th>\n",
       "      <td>2.688050</td>\n",
       "      <td>0.103357</td>\n",
       "    </tr>\n",
       "    <tr>\n",
       "      <th>1</th>\n",
       "      <td>-1.197850</td>\n",
       "      <td>0.805912</td>\n",
       "    </tr>\n",
       "    <tr>\n",
       "      <th>2</th>\n",
       "      <td>1.133690</td>\n",
       "      <td>-0.851039</td>\n",
       "    </tr>\n",
       "    <tr>\n",
       "      <th>3</th>\n",
       "      <td>0.788276</td>\n",
       "      <td>1.365524</td>\n",
       "    </tr>\n",
       "    <tr>\n",
       "      <th>4</th>\n",
       "      <td>1.479103</td>\n",
       "      <td>0.759027</td>\n",
       "    </tr>\n",
       "  </tbody>\n",
       "</table>\n",
       "</div>"
      ],
      "text/plain": [
       "        Age    Income\n",
       "0  2.688050  0.103357\n",
       "1 -1.197850  0.805912\n",
       "2  1.133690 -0.851039\n",
       "3  0.788276  1.365524\n",
       "4  1.479103  0.759027"
      ]
     },
     "execution_count": 220,
     "metadata": {},
     "output_type": "execute_result"
    }
   ],
   "source": [
    "df_sc = pd.DataFrame(df_sc,columns=['Age','Income'])\n",
    "df_sc.head()"
   ]
  },
  {
   "cell_type": "code",
   "execution_count": 221,
   "id": "582f4b91",
   "metadata": {},
   "outputs": [
    {
     "data": {
      "text/html": [
       "<div>\n",
       "<style scoped>\n",
       "    .dataframe tbody tr th:only-of-type {\n",
       "        vertical-align: middle;\n",
       "    }\n",
       "\n",
       "    .dataframe tbody tr th {\n",
       "        vertical-align: top;\n",
       "    }\n",
       "\n",
       "    .dataframe thead th {\n",
       "        text-align: right;\n",
       "    }\n",
       "</style>\n",
       "<table border=\"1\" class=\"dataframe\">\n",
       "  <thead>\n",
       "    <tr style=\"text-align: right;\">\n",
       "      <th></th>\n",
       "      <th>Age</th>\n",
       "      <th>Income</th>\n",
       "    </tr>\n",
       "  </thead>\n",
       "  <tbody>\n",
       "    <tr>\n",
       "      <th>count</th>\n",
       "      <td>2.000000e+03</td>\n",
       "      <td>2.000000e+03</td>\n",
       "    </tr>\n",
       "    <tr>\n",
       "      <th>mean</th>\n",
       "      <td>2.042810e-16</td>\n",
       "      <td>-1.705303e-16</td>\n",
       "    </tr>\n",
       "    <tr>\n",
       "      <th>std</th>\n",
       "      <td>1.000250e+00</td>\n",
       "      <td>1.000250e+00</td>\n",
       "    </tr>\n",
       "    <tr>\n",
       "      <th>min</th>\n",
       "      <td>-1.370557e+00</td>\n",
       "      <td>-1.855737e+00</td>\n",
       "    </tr>\n",
       "    <tr>\n",
       "      <th>25%</th>\n",
       "      <td>-7.660837e-01</td>\n",
       "      <td>-6.235225e-01</td>\n",
       "    </tr>\n",
       "    <tr>\n",
       "      <th>50%</th>\n",
       "      <td>-2.479636e-01</td>\n",
       "      <td>-1.421457e-01</td>\n",
       "    </tr>\n",
       "    <tr>\n",
       "      <th>75%</th>\n",
       "      <td>5.292165e-01</td>\n",
       "      <td>4.640750e-01</td>\n",
       "    </tr>\n",
       "    <tr>\n",
       "      <th>max</th>\n",
       "      <td>2.774403e+00</td>\n",
       "      <td>3.768560e+00</td>\n",
       "    </tr>\n",
       "  </tbody>\n",
       "</table>\n",
       "</div>"
      ],
      "text/plain": [
       "                Age        Income\n",
       "count  2.000000e+03  2.000000e+03\n",
       "mean   2.042810e-16 -1.705303e-16\n",
       "std    1.000250e+00  1.000250e+00\n",
       "min   -1.370557e+00 -1.855737e+00\n",
       "25%   -7.660837e-01 -6.235225e-01\n",
       "50%   -2.479636e-01 -1.421457e-01\n",
       "75%    5.292165e-01  4.640750e-01\n",
       "max    2.774403e+00  3.768560e+00"
      ]
     },
     "execution_count": 221,
     "metadata": {},
     "output_type": "execute_result"
    }
   ],
   "source": [
    "df_sc.describe()"
   ]
  },
  {
   "cell_type": "code",
   "execution_count": 222,
   "id": "ab07bc66",
   "metadata": {},
   "outputs": [
    {
     "data": {
      "text/html": [
       "<div>\n",
       "<style scoped>\n",
       "    .dataframe tbody tr th:only-of-type {\n",
       "        vertical-align: middle;\n",
       "    }\n",
       "\n",
       "    .dataframe tbody tr th {\n",
       "        vertical-align: top;\n",
       "    }\n",
       "\n",
       "    .dataframe thead th {\n",
       "        text-align: right;\n",
       "    }\n",
       "</style>\n",
       "<table border=\"1\" class=\"dataframe\">\n",
       "  <thead>\n",
       "    <tr style=\"text-align: right;\">\n",
       "      <th></th>\n",
       "      <th>ID</th>\n",
       "      <th>Sex</th>\n",
       "      <th>Marital status</th>\n",
       "      <th>Age</th>\n",
       "      <th>Education</th>\n",
       "      <th>Income</th>\n",
       "      <th>Occupation</th>\n",
       "      <th>Settlement size</th>\n",
       "    </tr>\n",
       "  </thead>\n",
       "  <tbody>\n",
       "    <tr>\n",
       "      <th>count</th>\n",
       "      <td>2.000000e+03</td>\n",
       "      <td>2000.000000</td>\n",
       "      <td>2000.000000</td>\n",
       "      <td>2.000000e+03</td>\n",
       "      <td>2000.00000</td>\n",
       "      <td>2.000000e+03</td>\n",
       "      <td>2000.000000</td>\n",
       "      <td>2000.000000</td>\n",
       "    </tr>\n",
       "    <tr>\n",
       "      <th>mean</th>\n",
       "      <td>1.000010e+08</td>\n",
       "      <td>0.457000</td>\n",
       "      <td>0.496500</td>\n",
       "      <td>2.042810e-16</td>\n",
       "      <td>1.03800</td>\n",
       "      <td>-1.705303e-16</td>\n",
       "      <td>0.810500</td>\n",
       "      <td>0.739000</td>\n",
       "    </tr>\n",
       "    <tr>\n",
       "      <th>std</th>\n",
       "      <td>5.774946e+02</td>\n",
       "      <td>0.498272</td>\n",
       "      <td>0.500113</td>\n",
       "      <td>1.000250e+00</td>\n",
       "      <td>0.59978</td>\n",
       "      <td>1.000250e+00</td>\n",
       "      <td>0.638587</td>\n",
       "      <td>0.812533</td>\n",
       "    </tr>\n",
       "    <tr>\n",
       "      <th>min</th>\n",
       "      <td>1.000000e+08</td>\n",
       "      <td>0.000000</td>\n",
       "      <td>0.000000</td>\n",
       "      <td>-1.370557e+00</td>\n",
       "      <td>0.00000</td>\n",
       "      <td>-1.855737e+00</td>\n",
       "      <td>0.000000</td>\n",
       "      <td>0.000000</td>\n",
       "    </tr>\n",
       "    <tr>\n",
       "      <th>25%</th>\n",
       "      <td>1.000005e+08</td>\n",
       "      <td>0.000000</td>\n",
       "      <td>0.000000</td>\n",
       "      <td>-7.660837e-01</td>\n",
       "      <td>1.00000</td>\n",
       "      <td>-6.235225e-01</td>\n",
       "      <td>0.000000</td>\n",
       "      <td>0.000000</td>\n",
       "    </tr>\n",
       "    <tr>\n",
       "      <th>50%</th>\n",
       "      <td>1.000010e+08</td>\n",
       "      <td>0.000000</td>\n",
       "      <td>0.000000</td>\n",
       "      <td>-2.479636e-01</td>\n",
       "      <td>1.00000</td>\n",
       "      <td>-1.421457e-01</td>\n",
       "      <td>1.000000</td>\n",
       "      <td>1.000000</td>\n",
       "    </tr>\n",
       "    <tr>\n",
       "      <th>75%</th>\n",
       "      <td>1.000015e+08</td>\n",
       "      <td>1.000000</td>\n",
       "      <td>1.000000</td>\n",
       "      <td>5.292165e-01</td>\n",
       "      <td>1.00000</td>\n",
       "      <td>4.640750e-01</td>\n",
       "      <td>1.000000</td>\n",
       "      <td>1.000000</td>\n",
       "    </tr>\n",
       "    <tr>\n",
       "      <th>max</th>\n",
       "      <td>1.000020e+08</td>\n",
       "      <td>1.000000</td>\n",
       "      <td>1.000000</td>\n",
       "      <td>2.774403e+00</td>\n",
       "      <td>3.00000</td>\n",
       "      <td>3.768560e+00</td>\n",
       "      <td>2.000000</td>\n",
       "      <td>2.000000</td>\n",
       "    </tr>\n",
       "  </tbody>\n",
       "</table>\n",
       "</div>"
      ],
      "text/plain": [
       "                 ID          Sex  Marital status           Age   Education  \\\n",
       "count  2.000000e+03  2000.000000     2000.000000  2.000000e+03  2000.00000   \n",
       "mean   1.000010e+08     0.457000        0.496500  2.042810e-16     1.03800   \n",
       "std    5.774946e+02     0.498272        0.500113  1.000250e+00     0.59978   \n",
       "min    1.000000e+08     0.000000        0.000000 -1.370557e+00     0.00000   \n",
       "25%    1.000005e+08     0.000000        0.000000 -7.660837e-01     1.00000   \n",
       "50%    1.000010e+08     0.000000        0.000000 -2.479636e-01     1.00000   \n",
       "75%    1.000015e+08     1.000000        1.000000  5.292165e-01     1.00000   \n",
       "max    1.000020e+08     1.000000        1.000000  2.774403e+00     3.00000   \n",
       "\n",
       "             Income   Occupation  Settlement size  \n",
       "count  2.000000e+03  2000.000000      2000.000000  \n",
       "mean  -1.705303e-16     0.810500         0.739000  \n",
       "std    1.000250e+00     0.638587         0.812533  \n",
       "min   -1.855737e+00     0.000000         0.000000  \n",
       "25%   -6.235225e-01     0.000000         0.000000  \n",
       "50%   -1.421457e-01     1.000000         1.000000  \n",
       "75%    4.640750e-01     1.000000         1.000000  \n",
       "max    3.768560e+00     2.000000         2.000000  "
      ]
     },
     "execution_count": 222,
     "metadata": {},
     "output_type": "execute_result"
    }
   ],
   "source": [
    "df['Age']=df_sc['Age']\n",
    "df['Income']=df_sc['Income']\n",
    "df.describe()"
   ]
  },
  {
   "cell_type": "markdown",
   "id": "688eb690",
   "metadata": {},
   "source": [
    "# Elbow Method- \n",
    "To find optimum number of clusters to segmentise customers"
   ]
  },
  {
   "cell_type": "code",
   "execution_count": 223,
   "id": "da653b6a",
   "metadata": {},
   "outputs": [],
   "source": [
    "from sklearn.cluster import KMeans"
   ]
  },
  {
   "cell_type": "code",
   "execution_count": 224,
   "id": "e8a6bbff",
   "metadata": {},
   "outputs": [
    {
     "name": "stderr",
     "output_type": "stream",
     "text": [
      "C:\\Users\\win 8.1\\anaconda3\\lib\\site-packages\\sklearn\\cluster\\_kmeans.py:870: FutureWarning: The default value of `n_init` will change from 10 to 'auto' in 1.4. Set the value of `n_init` explicitly to suppress the warning\n",
      "  warnings.warn(\n",
      "C:\\Users\\win 8.1\\anaconda3\\lib\\site-packages\\sklearn\\cluster\\_kmeans.py:870: FutureWarning: The default value of `n_init` will change from 10 to 'auto' in 1.4. Set the value of `n_init` explicitly to suppress the warning\n",
      "  warnings.warn(\n",
      "C:\\Users\\win 8.1\\anaconda3\\lib\\site-packages\\sklearn\\cluster\\_kmeans.py:870: FutureWarning: The default value of `n_init` will change from 10 to 'auto' in 1.4. Set the value of `n_init` explicitly to suppress the warning\n",
      "  warnings.warn(\n",
      "C:\\Users\\win 8.1\\anaconda3\\lib\\site-packages\\sklearn\\cluster\\_kmeans.py:870: FutureWarning: The default value of `n_init` will change from 10 to 'auto' in 1.4. Set the value of `n_init` explicitly to suppress the warning\n",
      "  warnings.warn(\n",
      "C:\\Users\\win 8.1\\anaconda3\\lib\\site-packages\\sklearn\\cluster\\_kmeans.py:870: FutureWarning: The default value of `n_init` will change from 10 to 'auto' in 1.4. Set the value of `n_init` explicitly to suppress the warning\n",
      "  warnings.warn(\n",
      "C:\\Users\\win 8.1\\anaconda3\\lib\\site-packages\\sklearn\\cluster\\_kmeans.py:870: FutureWarning: The default value of `n_init` will change from 10 to 'auto' in 1.4. Set the value of `n_init` explicitly to suppress the warning\n",
      "  warnings.warn(\n",
      "C:\\Users\\win 8.1\\anaconda3\\lib\\site-packages\\sklearn\\cluster\\_kmeans.py:870: FutureWarning: The default value of `n_init` will change from 10 to 'auto' in 1.4. Set the value of `n_init` explicitly to suppress the warning\n",
      "  warnings.warn(\n",
      "C:\\Users\\win 8.1\\anaconda3\\lib\\site-packages\\sklearn\\cluster\\_kmeans.py:870: FutureWarning: The default value of `n_init` will change from 10 to 'auto' in 1.4. Set the value of `n_init` explicitly to suppress the warning\n",
      "  warnings.warn(\n",
      "C:\\Users\\win 8.1\\anaconda3\\lib\\site-packages\\sklearn\\cluster\\_kmeans.py:870: FutureWarning: The default value of `n_init` will change from 10 to 'auto' in 1.4. Set the value of `n_init` explicitly to suppress the warning\n",
      "  warnings.warn(\n",
      "C:\\Users\\win 8.1\\anaconda3\\lib\\site-packages\\sklearn\\cluster\\_kmeans.py:870: FutureWarning: The default value of `n_init` will change from 10 to 'auto' in 1.4. Set the value of `n_init` explicitly to suppress the warning\n",
      "  warnings.warn(\n",
      "C:\\Users\\win 8.1\\anaconda3\\lib\\site-packages\\sklearn\\cluster\\_kmeans.py:870: FutureWarning: The default value of `n_init` will change from 10 to 'auto' in 1.4. Set the value of `n_init` explicitly to suppress the warning\n",
      "  warnings.warn(\n",
      "C:\\Users\\win 8.1\\anaconda3\\lib\\site-packages\\sklearn\\cluster\\_kmeans.py:870: FutureWarning: The default value of `n_init` will change from 10 to 'auto' in 1.4. Set the value of `n_init` explicitly to suppress the warning\n",
      "  warnings.warn(\n",
      "C:\\Users\\win 8.1\\anaconda3\\lib\\site-packages\\sklearn\\cluster\\_kmeans.py:870: FutureWarning: The default value of `n_init` will change from 10 to 'auto' in 1.4. Set the value of `n_init` explicitly to suppress the warning\n",
      "  warnings.warn(\n",
      "C:\\Users\\win 8.1\\anaconda3\\lib\\site-packages\\sklearn\\cluster\\_kmeans.py:870: FutureWarning: The default value of `n_init` will change from 10 to 'auto' in 1.4. Set the value of `n_init` explicitly to suppress the warning\n",
      "  warnings.warn(\n"
     ]
    },
    {
     "name": "stdout",
     "output_type": "stream",
     "text": [
      "WCSS\n",
      " [666674350.3269998, 166674111.8464418, 74083749.09027909, 41675419.75659653, 26686793.660410516, 18531777.57714753, 13621768.267559499, 10434296.95052174, 8246538.266465772, 6675192.455154002, 5534707.317134988, 4639014.877190579, 3959159.013409587, 3421396.5640510535]\n"
     ]
    }
   ],
   "source": [
    "# within cluster sum of square\n",
    "wcss = []\n",
    "for i in range(1,15):\n",
    "    model = KMeans(n_clusters=i)\n",
    "    model.fit(df)\n",
    "    wcss.append(model.inertia_)\n",
    "    \n",
    "# model.inertia_ returns the WCSS values\n",
    "print('WCSS\\n',wcss)"
   ]
  },
  {
   "cell_type": "code",
   "execution_count": 225,
   "id": "a3548f46",
   "metadata": {},
   "outputs": [
    {
     "data": {
      "image/png": "[encoded data removed]",
      "text/plain": [
       "<Figure size 640x480 with 1 Axes>"
      ]
     },
     "metadata": {},
     "output_type": "display_data"
    }
   ],
   "source": [
    "plt.plot(list(range(1,15)),wcss)\n",
    "plt.title('Elbow Method')\n",
    "plt.xlabel('Num of CLusters')\n",
    "plt.ylabel('WCSS')\n",
    "plt.grid()\n",
    "plt.show()"
   ]
  },
  {
   "cell_type": "code",
   "execution_count": 226,
   "id": "d6e79782",
   "metadata": {},
   "outputs": [],
   "source": [
    "# optimum number of clusters can be 2 or 3"
   ]
  },
  {
   "cell_type": "markdown",
   "id": "cf609656",
   "metadata": {},
   "source": [
    "# Silhoutte method\n",
    "- to determine optimum number of cluster using one different approach where we look for minimizing wcss.\n",
    "- # (b-a)/max(a,b)"
   ]
  },
  {
   "cell_type": "code",
   "execution_count": 227,
   "id": "0448c72e",
   "metadata": {},
   "outputs": [],
   "source": [
    "from sklearn.metrics import silhouette_score"
   ]
  },
  {
   "cell_type": "code",
   "execution_count": 233,
   "id": "5faf04dc",
   "metadata": {},
   "outputs": [
    {
     "name": "stderr",
     "output_type": "stream",
     "text": [
      "C:\\Users\\win 8.1\\anaconda3\\lib\\site-packages\\sklearn\\cluster\\_kmeans.py:870: FutureWarning: The default value of `n_init` will change from 10 to 'auto' in 1.4. Set the value of `n_init` explicitly to suppress the warning\n",
      "  warnings.warn(\n"
     ]
    },
    {
     "name": "stdout",
     "output_type": "stream",
     "text": [
      "Silhoutte Score at K=2 0.6263465507065786\n"
     ]
    },
    {
     "name": "stderr",
     "output_type": "stream",
     "text": [
      "C:\\Users\\win 8.1\\anaconda3\\lib\\site-packages\\sklearn\\cluster\\_kmeans.py:870: FutureWarning: The default value of `n_init` will change from 10 to 'auto' in 1.4. Set the value of `n_init` explicitly to suppress the warning\n",
      "  warnings.warn(\n"
     ]
    },
    {
     "name": "stdout",
     "output_type": "stream",
     "text": [
      "Silhoutte Score at K=3 0.5895325393235766\n"
     ]
    },
    {
     "name": "stderr",
     "output_type": "stream",
     "text": [
      "C:\\Users\\win 8.1\\anaconda3\\lib\\site-packages\\sklearn\\cluster\\_kmeans.py:870: FutureWarning: The default value of `n_init` will change from 10 to 'auto' in 1.4. Set the value of `n_init` explicitly to suppress the warning\n",
      "  warnings.warn(\n"
     ]
    },
    {
     "name": "stdout",
     "output_type": "stream",
     "text": [
      "Silhoutte Score at K=4 0.5710191799697798\n"
     ]
    },
    {
     "name": "stderr",
     "output_type": "stream",
     "text": [
      "C:\\Users\\win 8.1\\anaconda3\\lib\\site-packages\\sklearn\\cluster\\_kmeans.py:870: FutureWarning: The default value of `n_init` will change from 10 to 'auto' in 1.4. Set the value of `n_init` explicitly to suppress the warning\n",
      "  warnings.warn(\n"
     ]
    },
    {
     "name": "stdout",
     "output_type": "stream",
     "text": [
      "Silhoutte Score at K=5 0.5597293084459359\n"
     ]
    },
    {
     "name": "stderr",
     "output_type": "stream",
     "text": [
      "C:\\Users\\win 8.1\\anaconda3\\lib\\site-packages\\sklearn\\cluster\\_kmeans.py:870: FutureWarning: The default value of `n_init` will change from 10 to 'auto' in 1.4. Set the value of `n_init` explicitly to suppress the warning\n",
      "  warnings.warn(\n"
     ]
    },
    {
     "name": "stdout",
     "output_type": "stream",
     "text": [
      "Silhoutte Score at K=6 0.552207410726469\n"
     ]
    },
    {
     "name": "stderr",
     "output_type": "stream",
     "text": [
      "C:\\Users\\win 8.1\\anaconda3\\lib\\site-packages\\sklearn\\cluster\\_kmeans.py:870: FutureWarning: The default value of `n_init` will change from 10 to 'auto' in 1.4. Set the value of `n_init` explicitly to suppress the warning\n",
      "  warnings.warn(\n"
     ]
    },
    {
     "name": "stdout",
     "output_type": "stream",
     "text": [
      "Silhoutte Score at K=7 0.5470089997806427\n"
     ]
    },
    {
     "name": "stderr",
     "output_type": "stream",
     "text": [
      "C:\\Users\\win 8.1\\anaconda3\\lib\\site-packages\\sklearn\\cluster\\_kmeans.py:870: FutureWarning: The default value of `n_init` will change from 10 to 'auto' in 1.4. Set the value of `n_init` explicitly to suppress the warning\n",
      "  warnings.warn(\n"
     ]
    },
    {
     "name": "stdout",
     "output_type": "stream",
     "text": [
      "Silhoutte Score at K=8 0.542496256362027\n"
     ]
    },
    {
     "name": "stderr",
     "output_type": "stream",
     "text": [
      "C:\\Users\\win 8.1\\anaconda3\\lib\\site-packages\\sklearn\\cluster\\_kmeans.py:870: FutureWarning: The default value of `n_init` will change from 10 to 'auto' in 1.4. Set the value of `n_init` explicitly to suppress the warning\n",
      "  warnings.warn(\n"
     ]
    },
    {
     "name": "stdout",
     "output_type": "stream",
     "text": [
      "Silhoutte Score at K=9 0.5387787416136611\n"
     ]
    }
   ],
   "source": [
    "for i in range(2,10): # i = no of clusters\n",
    "    m = KMeans(n_clusters=i,random_state=0,init='k-means++').fit(df)\n",
    "    print(f'Silhoutte Score at K={i}',silhouette_score(df,m.labels_))"
   ]
  },
  {
   "cell_type": "code",
   "execution_count": null,
   "id": "5ccd31f1",
   "metadata": {},
   "outputs": [],
   "source": [
    "# Silhoutte score is maximum at k=2"
   ]
  },
  {
   "cell_type": "markdown",
   "id": "0c733cf3",
   "metadata": {},
   "source": [
    "## Applying KMeans at k=2"
   ]
  },
  {
   "cell_type": "code",
   "execution_count": 248,
   "id": "8fdfb639",
   "metadata": {},
   "outputs": [
    {
     "name": "stderr",
     "output_type": "stream",
     "text": [
      "C:\\Users\\win 8.1\\anaconda3\\lib\\site-packages\\sklearn\\cluster\\_kmeans.py:870: FutureWarning: The default value of `n_init` will change from 10 to 'auto' in 1.4. Set the value of `n_init` explicitly to suppress the warning\n",
      "  warnings.warn(\n"
     ]
    },
    {
     "data": {
      "text/html": [
       "<style>#sk-container-id-7 {color: black;background-color: white;}#sk-container-id-7 pre{padding: 0;}#sk-container-id-7 div.sk-toggleable {background-color: white;}#sk-container-id-7 label.sk-toggleable__label {cursor: pointer;display: block;width: 100%;margin-bottom: 0;padding: 0.3em;box-sizing: border-box;text-align: center;}#sk-container-id-7 label.sk-toggleable__label-arrow:before {content: \"▸\";float: left;margin-right: 0.25em;color: #696969;}#sk-container-id-7 label.sk-toggleable__label-arrow:hover:before {color: black;}#sk-container-id-7 div.sk-estimator:hover label.sk-toggleable__label-arrow:before {color: black;}#sk-container-id-7 div.sk-toggleable__content {max-height: 0;max-width: 0;overflow: hidden;text-align: left;background-color: #f0f8ff;}#sk-container-id-7 div.sk-toggleable__content pre {margin: 0.2em;color: black;border-radius: 0.25em;background-color: #f0f8ff;}#sk-container-id-7 input.sk-toggleable__control:checked~div.sk-toggleable__content {max-height: 200px;max-width: 100%;overflow: auto;}#sk-container-id-7 input.sk-toggleable__control:checked~label.sk-toggleable__label-arrow:before {content: \"▾\";}#sk-container-id-7 div.sk-estimator input.sk-toggleable__control:checked~label.sk-toggleable__label {background-color: #d4ebff;}#sk-container-id-7 div.sk-label input.sk-toggleable__control:checked~label.sk-toggleable__label {background-color: #d4ebff;}#sk-container-id-7 input.sk-hidden--visually {border: 0;clip: rect(1px 1px 1px 1px);clip: rect(1px, 1px, 1px, 1px);height: 1px;margin: -1px;overflow: hidden;padding: 0;position: absolute;width: 1px;}#sk-container-id-7 div.sk-estimator {font-family: monospace;background-color: #f0f8ff;border: 1px dotted black;border-radius: 0.25em;box-sizing: border-box;margin-bottom: 0.5em;}#sk-container-id-7 div.sk-estimator:hover {background-color: #d4ebff;}#sk-container-id-7 div.sk-parallel-item::after {content: \"\";width: 100%;border-bottom: 1px solid gray;flex-grow: 1;}#sk-container-id-7 div.sk-label:hover label.sk-toggleable__label {background-color: #d4ebff;}#sk-container-id-7 div.sk-serial::before {content: \"\";position: absolute;border-left: 1px solid gray;box-sizing: border-box;top: 0;bottom: 0;left: 50%;z-index: 0;}#sk-container-id-7 div.sk-serial {display: flex;flex-direction: column;align-items: center;background-color: white;padding-right: 0.2em;padding-left: 0.2em;position: relative;}#sk-container-id-7 div.sk-item {position: relative;z-index: 1;}#sk-container-id-7 div.sk-parallel {display: flex;align-items: stretch;justify-content: center;background-color: white;position: relative;}#sk-container-id-7 div.sk-item::before, #sk-container-id-7 div.sk-parallel-item::before {content: \"\";position: absolute;border-left: 1px solid gray;box-sizing: border-box;top: 0;bottom: 0;left: 50%;z-index: -1;}#sk-container-id-7 div.sk-parallel-item {display: flex;flex-direction: column;z-index: 1;position: relative;background-color: white;}#sk-container-id-7 div.sk-parallel-item:first-child::after {align-self: flex-end;width: 50%;}#sk-container-id-7 div.sk-parallel-item:last-child::after {align-self: flex-start;width: 50%;}#sk-container-id-7 div.sk-parallel-item:only-child::after {width: 0;}#sk-container-id-7 div.sk-dashed-wrapped {border: 1px dashed gray;margin: 0 0.4em 0.5em 0.4em;box-sizing: border-box;padding-bottom: 0.4em;background-color: white;}#sk-container-id-7 div.sk-label label {font-family: monospace;font-weight: bold;display: inline-block;line-height: 1.2em;}#sk-container-id-7 div.sk-label-container {text-align: center;}#sk-container-id-7 div.sk-container {/* jupyter's `normalize.less` sets `[hidden] { display: none; }` but bootstrap.min.css set `[hidden] { display: none !important; }` so we also need the `!important` here to be able to override the default hidden behavior on the sphinx rendered scikit-learn.org. See: https://github.com/scikit-learn/scikit-learn/issues/21755 */display: inline-block !important;position: relative;}#sk-container-id-7 div.sk-text-repr-fallback {display: none;}</style><div id=\"sk-container-id-7\" class=\"sk-top-container\"><div class=\"sk-text-repr-fallback\"><pre>KMeans(n_clusters=2)</pre><b>In a Jupyter environment, please rerun this cell to show the HTML representation or trust the notebook. <br />On GitHub, the HTML representation is unable to render, please try loading this page with nbviewer.org.</b></div><div class=\"sk-container\" hidden><div class=\"sk-item\"><div class=\"sk-estimator sk-toggleable\"><input class=\"sk-toggleable__control sk-hidden--visually\" id=\"sk-estimator-id-7\" type=\"checkbox\" checked><label for=\"sk-estimator-id-7\" class=\"sk-toggleable__label sk-toggleable__label-arrow\">KMeans</label><div class=\"sk-toggleable__content\"><pre>KMeans(n_clusters=2)</pre></div></div></div></div></div>"
      ],
      "text/plain": [
       "KMeans(n_clusters=2)"
      ]
     },
     "execution_count": 248,
     "metadata": {},
     "output_type": "execute_result"
    }
   ],
   "source": [
    "kmeans_2 = KMeans(n_clusters=2)\n",
    "kmeans_2.fit(df_sub)"
   ]
  },
  {
   "cell_type": "code",
   "execution_count": 249,
   "id": "1fa0f372",
   "metadata": {},
   "outputs": [
    {
     "name": "stdout",
     "output_type": "stream",
     "text": [
      "[1 1 0 ... 0 0 0]\n"
     ]
    }
   ],
   "source": [
    "ypred_k2 = kmeans_2.predict(df_sub)\n",
    "print(ypred_k2)"
   ]
  },
  {
   "cell_type": "code",
   "execution_count": 250,
   "id": "f25579a4",
   "metadata": {},
   "outputs": [],
   "source": [
    "from collections import Counter"
   ]
  },
  {
   "cell_type": "code",
   "execution_count": 251,
   "id": "be866a17",
   "metadata": {},
   "outputs": [
    {
     "name": "stdout",
     "output_type": "stream",
     "text": [
      "Counter({0: 1025, 1: 975})\n"
     ]
    }
   ],
   "source": [
    "c1 = Counter(ypred_k2)\n",
    "print(c1)"
   ]
  },
  {
   "cell_type": "code",
   "execution_count": 252,
   "id": "464f648d",
   "metadata": {},
   "outputs": [
    {
     "name": "stdout",
     "output_type": "stream",
     "text": [
      "(2, 8)\n",
      "[[ 0.53396972  0.49524221  0.23507593 -0.27321314 -0.05036895 -0.58342522\n",
      "  -0.60085034 -0.71535671]\n",
      " [-0.56247735 -0.52168225 -0.24762619  0.28779947  0.05305805  0.61457318\n",
      "   0.63292859  0.75354824]]\n"
     ]
    }
   ],
   "source": [
    "cent2 = kmeans_2.cluster_centers_\n",
    "print(cent2.shape)\n",
    "print(cent2)"
   ]
  },
  {
   "cell_type": "code",
   "execution_count": 255,
   "id": "13d73a2c",
   "metadata": {},
   "outputs": [],
   "source": [
    "df1 = df_sub.copy()"
   ]
  },
  {
   "cell_type": "code",
   "execution_count": 256,
   "id": "09695adc",
   "metadata": {},
   "outputs": [
    {
     "data": {
      "text/html": [
       "<div>\n",
       "<style scoped>\n",
       "    .dataframe tbody tr th:only-of-type {\n",
       "        vertical-align: middle;\n",
       "    }\n",
       "\n",
       "    .dataframe tbody tr th {\n",
       "        vertical-align: top;\n",
       "    }\n",
       "\n",
       "    .dataframe thead th {\n",
       "        text-align: right;\n",
       "    }\n",
       "</style>\n",
       "<table border=\"1\" class=\"dataframe\">\n",
       "  <thead>\n",
       "    <tr style=\"text-align: right;\">\n",
       "      <th></th>\n",
       "      <th>ID</th>\n",
       "      <th>Sex</th>\n",
       "      <th>Marital status</th>\n",
       "      <th>Age</th>\n",
       "      <th>Education</th>\n",
       "      <th>Income</th>\n",
       "      <th>Occupation</th>\n",
       "      <th>Settlement size</th>\n",
       "      <th>Clusters_2</th>\n",
       "    </tr>\n",
       "  </thead>\n",
       "  <tbody>\n",
       "    <tr>\n",
       "      <th>0</th>\n",
       "      <td>-1.731185</td>\n",
       "      <td>-0.917399</td>\n",
       "      <td>-0.993024</td>\n",
       "      <td>2.688050</td>\n",
       "      <td>1.604323</td>\n",
       "      <td>0.103357</td>\n",
       "      <td>0.296823</td>\n",
       "      <td>1.552326</td>\n",
       "      <td>1</td>\n",
       "    </tr>\n",
       "    <tr>\n",
       "      <th>1</th>\n",
       "      <td>-1.729453</td>\n",
       "      <td>1.090038</td>\n",
       "      <td>1.007025</td>\n",
       "      <td>-1.197850</td>\n",
       "      <td>-0.063372</td>\n",
       "      <td>0.805912</td>\n",
       "      <td>0.296823</td>\n",
       "      <td>1.552326</td>\n",
       "      <td>1</td>\n",
       "    </tr>\n",
       "    <tr>\n",
       "      <th>2</th>\n",
       "      <td>-1.727721</td>\n",
       "      <td>-0.917399</td>\n",
       "      <td>-0.993024</td>\n",
       "      <td>1.133690</td>\n",
       "      <td>-0.063372</td>\n",
       "      <td>-0.851039</td>\n",
       "      <td>-1.269525</td>\n",
       "      <td>-0.909730</td>\n",
       "      <td>0</td>\n",
       "    </tr>\n",
       "    <tr>\n",
       "      <th>3</th>\n",
       "      <td>-1.725989</td>\n",
       "      <td>-0.917399</td>\n",
       "      <td>-0.993024</td>\n",
       "      <td>0.788276</td>\n",
       "      <td>-0.063372</td>\n",
       "      <td>1.365524</td>\n",
       "      <td>0.296823</td>\n",
       "      <td>0.321298</td>\n",
       "      <td>1</td>\n",
       "    </tr>\n",
       "    <tr>\n",
       "      <th>4</th>\n",
       "      <td>-1.724257</td>\n",
       "      <td>-0.917399</td>\n",
       "      <td>-0.993024</td>\n",
       "      <td>1.479103</td>\n",
       "      <td>-0.063372</td>\n",
       "      <td>0.759027</td>\n",
       "      <td>0.296823</td>\n",
       "      <td>0.321298</td>\n",
       "      <td>1</td>\n",
       "    </tr>\n",
       "  </tbody>\n",
       "</table>\n",
       "</div>"
      ],
      "text/plain": [
       "         ID       Sex  Marital status       Age  Education    Income  \\\n",
       "0 -1.731185 -0.917399       -0.993024  2.688050   1.604323  0.103357   \n",
       "1 -1.729453  1.090038        1.007025 -1.197850  -0.063372  0.805912   \n",
       "2 -1.727721 -0.917399       -0.993024  1.133690  -0.063372 -0.851039   \n",
       "3 -1.725989 -0.917399       -0.993024  0.788276  -0.063372  1.365524   \n",
       "4 -1.724257 -0.917399       -0.993024  1.479103  -0.063372  0.759027   \n",
       "\n",
       "   Occupation  Settlement size  Clusters_2  \n",
       "0    0.296823         1.552326           1  \n",
       "1    0.296823         1.552326           1  \n",
       "2   -1.269525        -0.909730           0  \n",
       "3    0.296823         0.321298           1  \n",
       "4    0.296823         0.321298           1  "
      ]
     },
     "execution_count": 256,
     "metadata": {},
     "output_type": "execute_result"
    }
   ],
   "source": [
    "df1['Clusters_2'] = ypred_k2\n",
    "df1.head()"
   ]
  },
  {
   "cell_type": "code",
   "execution_count": 257,
   "id": "c643adb1",
   "metadata": {},
   "outputs": [
    {
     "data": {
      "image/png": "[encoded data removed]",
      "text/plain": [
       "<Figure size 640x480 with 1 Axes>"
      ]
     },
     "metadata": {},
     "output_type": "display_data"
    }
   ],
   "source": [
    "plt.scatter(df1['ID'],df1['Income'],c=ypred_k2)\n",
    "\n",
    "plt.xlabel('Customer IDs')\n",
    "plt.ylabel('Income levels')\n",
    "plt.title('Customer IDS and Income based Clustering with K=2')\n",
    "plt.show()"
   ]
  },
  {
   "cell_type": "markdown",
   "id": "7a749711",
   "metadata": {},
   "source": [
    "### CLuster Profiling"
   ]
  },
  {
   "cell_type": "code",
   "execution_count": 262,
   "id": "82590f5e",
   "metadata": {},
   "outputs": [],
   "source": [
    "def k_cluster_analysis(k,table):\n",
    "    model=KMeans(n_clusters=k,random_state=0)\n",
    "    model.fit(table)\n",
    "    ypred=model.predict(table)\n",
    "    print(Counter(ypred))\n",
    "    cent=model.cluster_centers_\n",
    "    table[f'Cls{k}']=ypred\n",
    "    r1=table.drop(f'Cls{k}',axis=1).mean().reset_index().T\n",
    "    r1.columns=r1.loc['index']\n",
    "    r1=r1.iloc[1:,]\n",
    "    r1.index=['Mean']\n",
    "    r2=table.groupby(f'Cls{k}').mean()\n",
    "    cls_analysis=pd.concat([r1,r2])\n",
    "    return cls_analysis\n"
   ]
  },
  {
   "cell_type": "code",
   "execution_count": 263,
   "id": "f0c4553d",
   "metadata": {},
   "outputs": [
    {
     "name": "stderr",
     "output_type": "stream",
     "text": [
      "C:\\Users\\win 8.1\\anaconda3\\lib\\site-packages\\sklearn\\cluster\\_kmeans.py:870: FutureWarning: The default value of `n_init` will change from 10 to 'auto' in 1.4. Set the value of `n_init` explicitly to suppress the warning\n",
      "  warnings.warn(\n"
     ]
    },
    {
     "name": "stdout",
     "output_type": "stream",
     "text": [
      "Counter({1: 1025, 0: 975})\n"
     ]
    },
    {
     "data": {
      "text/html": [
       "<div>\n",
       "<style scoped>\n",
       "    .dataframe tbody tr th:only-of-type {\n",
       "        vertical-align: middle;\n",
       "    }\n",
       "\n",
       "    .dataframe tbody tr th {\n",
       "        vertical-align: top;\n",
       "    }\n",
       "\n",
       "    .dataframe thead th {\n",
       "        text-align: right;\n",
       "    }\n",
       "</style>\n",
       "<table border=\"1\" class=\"dataframe\">\n",
       "  <thead>\n",
       "    <tr style=\"text-align: right;\">\n",
       "      <th></th>\n",
       "      <th>ID</th>\n",
       "      <th>Sex</th>\n",
       "      <th>Marital status</th>\n",
       "      <th>Age</th>\n",
       "      <th>Education</th>\n",
       "      <th>Income</th>\n",
       "      <th>Occupation</th>\n",
       "      <th>Settlement size</th>\n",
       "    </tr>\n",
       "  </thead>\n",
       "  <tbody>\n",
       "    <tr>\n",
       "      <th>Mean</th>\n",
       "      <td>0.0</td>\n",
       "      <td>-0.0</td>\n",
       "      <td>0.0</td>\n",
       "      <td>-0.0</td>\n",
       "      <td>-0.0</td>\n",
       "      <td>0.0</td>\n",
       "      <td>0.0</td>\n",
       "      <td>0.0</td>\n",
       "    </tr>\n",
       "    <tr>\n",
       "      <th>0</th>\n",
       "      <td>-0.562472</td>\n",
       "      <td>-0.522088</td>\n",
       "      <td>-0.248391</td>\n",
       "      <td>0.289996</td>\n",
       "      <td>0.054649</td>\n",
       "      <td>0.613477</td>\n",
       "      <td>0.630977</td>\n",
       "      <td>0.751842</td>\n",
       "    </tr>\n",
       "    <tr>\n",
       "      <th>1</th>\n",
       "      <td>0.535034</td>\n",
       "      <td>0.49662</td>\n",
       "      <td>0.236274</td>\n",
       "      <td>-0.275849</td>\n",
       "      <td>-0.051983</td>\n",
       "      <td>-0.583551</td>\n",
       "      <td>-0.600198</td>\n",
       "      <td>-0.715167</td>\n",
       "    </tr>\n",
       "  </tbody>\n",
       "</table>\n",
       "</div>"
      ],
      "text/plain": [
       "            ID       Sex Marital status       Age Education    Income  \\\n",
       "Mean       0.0      -0.0            0.0      -0.0      -0.0       0.0   \n",
       "0    -0.562472 -0.522088      -0.248391  0.289996  0.054649  0.613477   \n",
       "1     0.535034   0.49662       0.236274 -0.275849 -0.051983 -0.583551   \n",
       "\n",
       "     Occupation Settlement size  \n",
       "Mean        0.0             0.0  \n",
       "0      0.630977        0.751842  \n",
       "1     -0.600198       -0.715167  "
      ]
     },
     "execution_count": 263,
     "metadata": {},
     "output_type": "execute_result"
    }
   ],
   "source": [
    "obj=k_cluster_analysis(2,df_sub)\n",
    "obj"
   ]
  },
  {
   "cell_type": "code",
   "execution_count": null,
   "id": "63910ca6",
   "metadata": {},
   "outputs": [],
   "source": []
  },
  {
   "cell_type": "code",
   "execution_count": null,
   "id": "f6289254",
   "metadata": {},
   "outputs": [],
   "source": []
  },
  {
   "cell_type": "code",
   "execution_count": null,
   "id": "3cb7b690",
   "metadata": {},
   "outputs": [],
   "source": []
  }
 ],
 "metadata": {
  "kernelspec": {
   "display_name": "Python 3 (ipykernel)",
   "language": "python",
   "name": "python3"
  },
  "language_info": {
   "codemirror_mode": {
    "name": "ipython",
    "version": 3
   },
   "file_extension": ".py",
   "mimetype": "text/x-python",
   "name": "python",
   "nbconvert_exporter": "python",
   "pygments_lexer": "ipython3",
   "version": "3.10.9"
  }
 },
 "nbformat": 4,
 "nbformat_minor": 5
}
